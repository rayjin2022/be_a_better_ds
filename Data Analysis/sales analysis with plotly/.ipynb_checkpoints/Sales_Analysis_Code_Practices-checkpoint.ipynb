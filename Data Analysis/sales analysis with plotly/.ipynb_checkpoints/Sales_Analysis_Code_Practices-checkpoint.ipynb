{
 "cells": [
  {
   "attachments": {
    "image.png": {
     "image/png": "[encoded data removed]"
    }
   },
   "cell_type": "markdown",
   "metadata": {},
   "source": [
    "![image.png](attachment:image.png)"
   ]
  },
  {
   "cell_type": "markdown",
   "metadata": {},
   "source": [
    "#####  SCENARIO:\n",
    "\n",
    "> __You are working as a Data Analyst/Scientist in the 'Coding Is Fun Corp.' The CEO wants you to have a look at the commercial data for this year & to present your findings.__ 👩‍💻\n",
    "___"
   ]
  },
  {
   "cell_type": "markdown",
   "metadata": {},
   "source": [
    "# Import Libraries & Load Dataset"
   ]
  },
  {
   "cell_type": "markdown",
   "metadata": {},
   "source": [
    "### Imports"
   ]
  },
  {
   "cell_type": "markdown",
   "metadata": {},
   "source": [
    "#### Imports"
   ]
  },
  {
   "cell_type": "code",
   "execution_count": 6,
   "metadata": {},
   "outputs": [
    {
     "name": "stdout",
     "output_type": "stream",
     "text": [
      "Looking in indexes: https://pypi.tuna.tsinghua.edu.cn/simple\n",
      "Collecting autoviz\n",
      "  Downloading https://pypi.tuna.tsinghua.edu.cn/packages/f6/76/7dabf29f2ec8fce1170619423725c116a640d9aba4897b8af353eaa22396/autoviz-0.1.53-py3-none-any.whl (64 kB)\n",
      "\u001b[2K     \u001b[90m━━━━━━━━━━━━━━━━━━━━━━━━━━━━━━━━━━━━━━━\u001b[0m \u001b[32m64.0/64.0 kB\u001b[0m \u001b[31m127.6 kB/s\u001b[0m eta \u001b[36m0:00:00\u001b[0ma \u001b[36m0:00:01\u001b[0m\n",
      "\u001b[?25hRequirement already satisfied: nltk in /Users/artefact/opt/anaconda3/lib/python3.9/site-packages (from autoviz) (3.6.5)\n",
      "Requirement already satisfied: pandas in /Users/artefact/opt/anaconda3/lib/python3.9/site-packages (from autoviz) (1.3.4)\n",
      "Requirement already satisfied: xlrd in /Users/artefact/opt/anaconda3/lib/python3.9/site-packages (from autoviz) (2.0.1)\n",
      "Requirement already satisfied: matplotlib>=3.3.3 in /Users/artefact/opt/anaconda3/lib/python3.9/site-packages (from autoviz) (3.4.3)\n",
      "Collecting emoji\n",
      "  Downloading https://pypi.tuna.tsinghua.edu.cn/packages/85/f3/0a09c327f81c792707727125e0b43e4eb6b1397f77d44162a8a5115260c0/emoji-2.0.0.tar.gz (197 kB)\n",
      "\u001b[2K     \u001b[90m━━━━━━━━━━━━━━━━━━━━━━━━━━━━━━━━━━━━━\u001b[0m \u001b[32m197.3/197.3 kB\u001b[0m \u001b[31m359.6 kB/s\u001b[0m eta \u001b[36m0:00:00\u001b[0m00:01\u001b[0m00:01\u001b[0m\n",
      "\u001b[?25h  Preparing metadata (setup.py) ... \u001b[?25ldone\n",
      "\u001b[?25hCollecting pyamg\n",
      "  Downloading https://pypi.tuna.tsinghua.edu.cn/packages/ea/47/9f2463404dfb0645e1497a0e9a848f5eb66285318850723ec02de757877d/pyamg-4.2.3-cp39-cp39-macosx_10_9_x86_64.whl (1.5 MB)\n",
      "\u001b[2K     \u001b[90m━━━━━━━━━━━━━━━━━━━━━━━━━━━━━━━━━━━━━━━━\u001b[0m \u001b[32m1.5/1.5 MB\u001b[0m \u001b[31m956.5 kB/s\u001b[0m eta \u001b[36m0:00:00\u001b[0m00:01\u001b[0m00:01\u001b[0m\n",
      "\u001b[?25hRequirement already satisfied: numpy in /Users/artefact/opt/anaconda3/lib/python3.9/site-packages (from autoviz) (1.20.3)\n",
      "Collecting textblob\n",
      "  Downloading https://pypi.tuna.tsinghua.edu.cn/packages/44/a4/595b66c1342a830f4ff476307c4367541cce3e361b9ee96d22a5eeeddd1d/textblob-0.17.1-py2.py3-none-any.whl (636 kB)\n",
      "\u001b[2K     \u001b[90m━━━━━━━━━━━━━━━━━━━━━━━━━━━━━━━━━━━━━\u001b[0m \u001b[32m636.8/636.8 kB\u001b[0m \u001b[31m692.5 kB/s\u001b[0m eta \u001b[36m0:00:00\u001b[0m00:01\u001b[0m00:01\u001b[0m\n",
      "\u001b[?25hCollecting wordcloud\n",
      "  Downloading https://pypi.tuna.tsinghua.edu.cn/packages/6e/21/8ca1d8c2d6d97f836451ee8e70e7f20f046e7b4a70473e3505741d52dd66/wordcloud-1.8.2.2-cp39-cp39-macosx_10_9_x86_64.whl (160 kB)\n",
      "\u001b[2K     \u001b[90m━━━━━━━━━━━━━━━━━━━━━━━━━━━━━━━━━━━━━\u001b[0m \u001b[32m160.5/160.5 kB\u001b[0m \u001b[31m299.0 kB/s\u001b[0m eta \u001b[36m0:00:00\u001b[0ma \u001b[36m0:00:01\u001b[0m\n",
      "\u001b[?25hRequirement already satisfied: xgboost>=0.82 in /Users/artefact/opt/anaconda3/lib/python3.9/site-packages (from autoviz) (1.6.2)\n",
      "Requirement already satisfied: ipython in /Users/artefact/opt/anaconda3/lib/python3.9/site-packages (from autoviz) (7.29.0)\n",
      "Requirement already satisfied: jupyter in /Users/artefact/opt/anaconda3/lib/python3.9/site-packages (from autoviz) (1.0.0)\n",
      "Collecting hvplot>=0.7.3\n",
      "  Downloading https://pypi.tuna.tsinghua.edu.cn/packages/0c/8b/d161afd3ecfaf66955fc1e27b7f5329180bd8a9f91c6e247245d488df728/hvplot-0.8.1-py2.py3-none-any.whl (3.2 MB)\n",
      "\u001b[2K     \u001b[90m━━━━━━━━━━━━━━━━━━━━━━━━━━━━━━━━━━━━━━━━\u001b[0m \u001b[32m3.2/3.2 MB\u001b[0m \u001b[31m467.4 kB/s\u001b[0m eta \u001b[36m0:00:00\u001b[0m00:01\u001b[0m00:01\u001b[0m\n",
      "\u001b[?25hRequirement already satisfied: seaborn>=0.11.1 in /Users/artefact/opt/anaconda3/lib/python3.9/site-packages (from autoviz) (0.11.2)\n",
      "Requirement already satisfied: scikit-learn in /Users/artefact/opt/anaconda3/lib/python3.9/site-packages (from autoviz) (0.24.2)\n",
      "Collecting panel~=0.12.6\n",
      "  Downloading https://pypi.tuna.tsinghua.edu.cn/packages/7b/7a/2ea37025497c5d30578a271e2b5898901b2276e67946a755dd983ba39deb/panel-0.12.7-py2.py3-none-any.whl (12.9 MB)\n",
      "\u001b[2K     \u001b[90m━━━━━━━━━━━━━━━━━━━━━━━━━━━━━━━━━━━━━━━\u001b[0m \u001b[32m12.9/12.9 MB\u001b[0m \u001b[31m175.2 kB/s\u001b[0m eta \u001b[36m0:00:00\u001b[0m00:01\u001b[0m00:02\u001b[0m\n",
      "\u001b[?25hRequirement already satisfied: statsmodels in /Users/artefact/opt/anaconda3/lib/python3.9/site-packages (from autoviz) (0.12.2)\n",
      "Collecting holoviews>=1.14.6\n",
      "  Downloading https://pypi.tuna.tsinghua.edu.cn/packages/aa/f6/ccf55a4685a79055c80c83579de2e7bc029d3df0f489d758096edcf8b8eb/holoviews-1.15.0-py2.py3-none-any.whl (4.3 MB)\n",
      "\u001b[2K     \u001b[90m━━━━━━━━━━━━━━━━━━━━━━━━━━━━━━━━━━━━━━━━\u001b[0m \u001b[32m4.3/4.3 MB\u001b[0m \u001b[31m299.7 kB/s\u001b[0m eta \u001b[36m0:00:00\u001b[0m00:01\u001b[0m00:01\u001b[0m\n",
      "\u001b[?25hCollecting typing-extensions>=4.1.1\n",
      "  Downloading https://pypi.tuna.tsinghua.edu.cn/packages/ed/d6/2afc375a8d55b8be879d6b4986d4f69f01115e795e36827fd3a40166028b/typing_extensions-4.3.0-py3-none-any.whl (25 kB)\n",
      "Requirement already satisfied: fsspec>=0.8.3 in /Users/artefact/opt/anaconda3/lib/python3.9/site-packages (from autoviz) (2021.8.1)\n",
      "Collecting bokeh>=2.4.2\n",
      "  Downloading https://pypi.tuna.tsinghua.edu.cn/packages/15/06/706a9c43436cd0c3e2f4b94e93ae837e74965e59565c596b727974a74169/bokeh-2.4.3-py3-none-any.whl (18.5 MB)\n",
      "\u001b[2K     \u001b[90m━━━━━━━━━━━━━━━━━━━━━━━━━━━━━━━━━━━━━━━\u001b[0m \u001b[32m18.5/18.5 MB\u001b[0m \u001b[31m243.8 kB/s\u001b[0m eta \u001b[36m0:00:00\u001b[0m00:01\u001b[0m00:02\u001b[0m\n",
      "\u001b[?25hRequirement already satisfied: PyYAML>=3.10 in /Users/artefact/opt/anaconda3/lib/python3.9/site-packages (from bokeh>=2.4.2->autoviz) (6.0)\n",
      "Requirement already satisfied: tornado>=5.1 in /Users/artefact/opt/anaconda3/lib/python3.9/site-packages (from bokeh>=2.4.2->autoviz) (6.1)\n",
      "Requirement already satisfied: pillow>=7.1.0 in /Users/artefact/opt/anaconda3/lib/python3.9/site-packages (from bokeh>=2.4.2->autoviz) (8.4.0)\n",
      "Requirement already satisfied: packaging>=16.8 in /Users/artefact/opt/anaconda3/lib/python3.9/site-packages (from bokeh>=2.4.2->autoviz) (21.0)\n",
      "Requirement already satisfied: Jinja2>=2.9 in /Users/artefact/opt/anaconda3/lib/python3.9/site-packages (from bokeh>=2.4.2->autoviz) (2.11.3)\n",
      "Collecting holoviews>=1.14.6\n",
      "  Downloading https://pypi.tuna.tsinghua.edu.cn/packages/90/1c/926d507977585708f6441b88c3db8b11a27c074cc85b09f1e8e45e0680ca/holoviews-1.14.9-py2.py3-none-any.whl (4.3 MB)\n",
      "\u001b[2K     \u001b[90m━━━━━━━━━━━━━━━━━━━━━━━━━━━━━━━━━━━━━━━━\u001b[0m \u001b[32m4.3/4.3 MB\u001b[0m \u001b[31m238.3 kB/s\u001b[0m eta \u001b[36m0:00:00\u001b[0m00:01\u001b[0m00:01\u001b[0m\n",
      "\u001b[?25hCollecting param<2.0,>=1.9.3\n",
      "  Downloading https://pypi.tuna.tsinghua.edu.cn/packages/1f/33/66c752e1e2c597e1c0d6a06137aa3fc38d94c06b5452ca710cd2b43c3141/param-1.12.2-py2.py3-none-any.whl (86 kB)\n",
      "\u001b[2K     \u001b[90m━━━━━━━━━━━━━━━━━━━━━━━━━━━━━━━━━━━━━━━\u001b[0m \u001b[32m86.8/86.8 kB\u001b[0m \u001b[31m184.5 kB/s\u001b[0m eta \u001b[36m0:00:00\u001b[0ma \u001b[36m0:00:01\u001b[0m\n",
      "\u001b[?25hCollecting pyviz-comms>=0.7.4\n",
      "  Downloading https://pypi.tuna.tsinghua.edu.cn/packages/2f/78/72bec6805be44a11dc80e949752fcaacc21661c3423e26623263d19a73d1/pyviz_comms-2.2.1-py2.py3-none-any.whl (42 kB)\n",
      "\u001b[2K     \u001b[90m━━━━━━━━━━━━━━━━━━━━━━━━━━━━━━━━━━━━━━━━\u001b[0m \u001b[32m42.9/42.9 kB\u001b[0m \u001b[31m82.8 kB/s\u001b[0m eta \u001b[36m0:00:00\u001b[0ma \u001b[36m0:00:01\u001b[0m\n",
      "\u001b[?25hCollecting colorcet\n",
      "  Downloading https://pypi.tuna.tsinghua.edu.cn/packages/fc/db/d55e0d28e01d3f24cb5bcb8023437fc5fa2371f42e578a65251344690610/colorcet-3.0.0-py2.py3-none-any.whl (1.6 MB)\n",
      "\u001b[2K     \u001b[90m━━━━━━━━━━━━━━━━━━━━━━━━━━━━━━━━━━━━━━━━\u001b[0m \u001b[32m1.6/1.6 MB\u001b[0m \u001b[31m189.1 kB/s\u001b[0m eta \u001b[36m0:00:00\u001b[0m00:01\u001b[0m00:01\u001b[0m\n",
      "\u001b[?25hRequirement already satisfied: kiwisolver>=1.0.1 in /Users/artefact/opt/anaconda3/lib/python3.9/site-packages (from matplotlib>=3.3.3->autoviz) (1.3.1)\n",
      "Requirement already satisfied: pyparsing>=2.2.1 in /Users/artefact/opt/anaconda3/lib/python3.9/site-packages (from matplotlib>=3.3.3->autoviz) (3.0.4)\n",
      "Requirement already satisfied: python-dateutil>=2.7 in /Users/artefact/opt/anaconda3/lib/python3.9/site-packages (from matplotlib>=3.3.3->autoviz) (2.8.2)\n",
      "Requirement already satisfied: cycler>=0.10 in /Users/artefact/opt/anaconda3/lib/python3.9/site-packages (from matplotlib>=3.3.3->autoviz) (0.10.0)\n",
      "Requirement already satisfied: pytz>=2017.3 in /Users/artefact/opt/anaconda3/lib/python3.9/site-packages (from pandas->autoviz) (2021.3)\n",
      "Requirement already satisfied: setuptools<61,>=42 in /Users/artefact/opt/anaconda3/lib/python3.9/site-packages (from panel~=0.12.6->autoviz) (58.0.4)\n",
      "Collecting pyct>=0.4.4\n",
      "  Downloading https://pypi.tuna.tsinghua.edu.cn/packages/71/76/52ce7aec26b0171939d3b3843acd011f8eb297b2a569e992691bb2964185/pyct-0.4.8-py2.py3-none-any.whl (15 kB)\n",
      "Requirement already satisfied: bleach in /Users/artefact/opt/anaconda3/lib/python3.9/site-packages (from panel~=0.12.6->autoviz) (4.0.0)\n",
      "Requirement already satisfied: requests in /Users/artefact/opt/anaconda3/lib/python3.9/site-packages (from panel~=0.12.6->autoviz) (2.26.0)\n",
      "Requirement already satisfied: tqdm>=4.48.0 in /Users/artefact/opt/anaconda3/lib/python3.9/site-packages (from panel~=0.12.6->autoviz) (4.62.3)\n"
     ]
    },
    {
     "name": "stdout",
     "output_type": "stream",
     "text": [
      "Collecting markdown\n",
      "  Downloading https://pypi.tuna.tsinghua.edu.cn/packages/86/be/ad281f7a3686b38dd8a307fa33210cdf2130404dfef668a37a4166d737ca/Markdown-3.4.1-py3-none-any.whl (93 kB)\n",
      "\u001b[2K     \u001b[90m━━━━━━━━━━━━━━━━━━━━━━━━━━━━━━━━━━━━━━━\u001b[0m \u001b[32m93.3/93.3 kB\u001b[0m \u001b[31m378.8 kB/s\u001b[0m eta \u001b[36m0:00:00\u001b[0ma \u001b[36m0:00:01\u001b[0m\n",
      "\u001b[?25hRequirement already satisfied: scipy>=1.0 in /Users/artefact/opt/anaconda3/lib/python3.9/site-packages (from seaborn>=0.11.1->autoviz) (1.7.1)\n",
      "Requirement already satisfied: pickleshare in /Users/artefact/opt/anaconda3/lib/python3.9/site-packages (from ipython->autoviz) (0.7.5)\n",
      "Requirement already satisfied: pexpect>4.3 in /Users/artefact/opt/anaconda3/lib/python3.9/site-packages (from ipython->autoviz) (4.8.0)\n",
      "Requirement already satisfied: prompt-toolkit!=3.0.0,!=3.0.1,<3.1.0,>=2.0.0 in /Users/artefact/opt/anaconda3/lib/python3.9/site-packages (from ipython->autoviz) (3.0.20)\n",
      "Requirement already satisfied: matplotlib-inline in /Users/artefact/opt/anaconda3/lib/python3.9/site-packages (from ipython->autoviz) (0.1.2)\n",
      "Requirement already satisfied: traitlets>=4.2 in /Users/artefact/opt/anaconda3/lib/python3.9/site-packages (from ipython->autoviz) (5.1.0)\n",
      "Requirement already satisfied: jedi>=0.16 in /Users/artefact/opt/anaconda3/lib/python3.9/site-packages (from ipython->autoviz) (0.18.0)\n",
      "Requirement already satisfied: pygments in /Users/artefact/opt/anaconda3/lib/python3.9/site-packages (from ipython->autoviz) (2.10.0)\n",
      "Requirement already satisfied: decorator in /Users/artefact/opt/anaconda3/lib/python3.9/site-packages (from ipython->autoviz) (5.1.0)\n",
      "Requirement already satisfied: backcall in /Users/artefact/opt/anaconda3/lib/python3.9/site-packages (from ipython->autoviz) (0.2.0)\n",
      "Requirement already satisfied: appnope in /Users/artefact/opt/anaconda3/lib/python3.9/site-packages (from ipython->autoviz) (0.1.2)\n",
      "Requirement already satisfied: ipykernel in /Users/artefact/opt/anaconda3/lib/python3.9/site-packages (from jupyter->autoviz) (6.4.1)\n",
      "Requirement already satisfied: nbconvert in /Users/artefact/opt/anaconda3/lib/python3.9/site-packages (from jupyter->autoviz) (6.1.0)\n",
      "Requirement already satisfied: jupyter-console in /Users/artefact/opt/anaconda3/lib/python3.9/site-packages (from jupyter->autoviz) (6.4.0)\n",
      "Requirement already satisfied: ipywidgets in /Users/artefact/opt/anaconda3/lib/python3.9/site-packages (from jupyter->autoviz) (7.6.5)\n",
      "Requirement already satisfied: qtconsole in /Users/artefact/opt/anaconda3/lib/python3.9/site-packages (from jupyter->autoviz) (5.1.1)\n",
      "Requirement already satisfied: notebook in /Users/artefact/opt/anaconda3/lib/python3.9/site-packages (from jupyter->autoviz) (6.4.5)\n",
      "Requirement already satisfied: click in /Users/artefact/opt/anaconda3/lib/python3.9/site-packages (from nltk->autoviz) (8.0.3)\n",
      "Requirement already satisfied: joblib in /Users/artefact/opt/anaconda3/lib/python3.9/site-packages (from nltk->autoviz) (1.1.0)\n",
      "Requirement already satisfied: regex>=2021.8.3 in /Users/artefact/opt/anaconda3/lib/python3.9/site-packages (from nltk->autoviz) (2021.8.3)\n",
      "Requirement already satisfied: threadpoolctl>=2.0.0 in /Users/artefact/opt/anaconda3/lib/python3.9/site-packages (from scikit-learn->autoviz) (2.2.0)\n",
      "Requirement already satisfied: patsy>=0.5 in /Users/artefact/opt/anaconda3/lib/python3.9/site-packages (from statsmodels->autoviz) (0.5.2)\n",
      "Requirement already satisfied: six in /Users/artefact/opt/anaconda3/lib/python3.9/site-packages (from cycler>=0.10->matplotlib>=3.3.3->autoviz) (1.16.0)\n",
      "Requirement already satisfied: parso<0.9.0,>=0.8.0 in /Users/artefact/opt/anaconda3/lib/python3.9/site-packages (from jedi>=0.16->ipython->autoviz) (0.8.2)\n",
      "Requirement already satisfied: MarkupSafe>=0.23 in /Users/artefact/opt/anaconda3/lib/python3.9/site-packages (from Jinja2>=2.9->bokeh>=2.4.2->autoviz) (2.0.1)\n",
      "Requirement already satisfied: ptyprocess>=0.5 in /Users/artefact/opt/anaconda3/lib/python3.9/site-packages (from pexpect>4.3->ipython->autoviz) (0.7.0)\n",
      "Requirement already satisfied: wcwidth in /Users/artefact/opt/anaconda3/lib/python3.9/site-packages (from prompt-toolkit!=3.0.0,!=3.0.1,<3.1.0,>=2.0.0->ipython->autoviz) (0.2.5)\n",
      "Requirement already satisfied: webencodings in /Users/artefact/opt/anaconda3/lib/python3.9/site-packages (from bleach->panel~=0.12.6->autoviz) (0.5.1)\n",
      "Requirement already satisfied: jupyter-client<8.0 in /Users/artefact/opt/anaconda3/lib/python3.9/site-packages (from ipykernel->jupyter->autoviz) (6.1.12)\n",
      "Requirement already satisfied: ipython-genutils in /Users/artefact/opt/anaconda3/lib/python3.9/site-packages (from ipykernel->jupyter->autoviz) (0.2.0)\n",
      "Requirement already satisfied: debugpy<2.0,>=1.0.0 in /Users/artefact/opt/anaconda3/lib/python3.9/site-packages (from ipykernel->jupyter->autoviz) (1.4.1)\n",
      "Requirement already satisfied: jupyterlab-widgets>=1.0.0 in /Users/artefact/opt/anaconda3/lib/python3.9/site-packages (from ipywidgets->jupyter->autoviz) (1.0.0)\n",
      "Requirement already satisfied: nbformat>=4.2.0 in /Users/artefact/opt/anaconda3/lib/python3.9/site-packages (from ipywidgets->jupyter->autoviz) (5.1.3)\n",
      "Requirement already satisfied: widgetsnbextension~=3.5.0 in /Users/artefact/opt/anaconda3/lib/python3.9/site-packages (from ipywidgets->jupyter->autoviz) (3.5.1)\n",
      "Requirement already satisfied: importlib-metadata>=4.4 in /Users/artefact/opt/anaconda3/lib/python3.9/site-packages (from markdown->panel~=0.12.6->autoviz) (4.8.1)\n",
      "Requirement already satisfied: pandocfilters>=1.4.1 in /Users/artefact/opt/anaconda3/lib/python3.9/site-packages (from nbconvert->jupyter->autoviz) (1.4.3)\n",
      "Requirement already satisfied: entrypoints>=0.2.2 in /Users/artefact/opt/anaconda3/lib/python3.9/site-packages (from nbconvert->jupyter->autoviz) (0.3)\n",
      "Requirement already satisfied: mistune<2,>=0.8.1 in /Users/artefact/opt/anaconda3/lib/python3.9/site-packages (from nbconvert->jupyter->autoviz) (0.8.4)\n",
      "Requirement already satisfied: jupyter-core in /Users/artefact/opt/anaconda3/lib/python3.9/site-packages (from nbconvert->jupyter->autoviz) (4.8.1)\n",
      "Requirement already satisfied: nbclient<0.6.0,>=0.5.0 in /Users/artefact/opt/anaconda3/lib/python3.9/site-packages (from nbconvert->jupyter->autoviz) (0.5.3)\n",
      "Requirement already satisfied: testpath in /Users/artefact/opt/anaconda3/lib/python3.9/site-packages (from nbconvert->jupyter->autoviz) (0.5.0)\n",
      "Requirement already satisfied: defusedxml in /Users/artefact/opt/anaconda3/lib/python3.9/site-packages (from nbconvert->jupyter->autoviz) (0.7.1)\n",
      "Requirement already satisfied: jupyterlab-pygments in /Users/artefact/opt/anaconda3/lib/python3.9/site-packages (from nbconvert->jupyter->autoviz) (0.1.2)\n",
      "Requirement already satisfied: pyzmq>=17 in /Users/artefact/opt/anaconda3/lib/python3.9/site-packages (from notebook->jupyter->autoviz) (22.2.1)\n",
      "Requirement already satisfied: Send2Trash>=1.5.0 in /Users/artefact/opt/anaconda3/lib/python3.9/site-packages (from notebook->jupyter->autoviz) (1.8.0)\n",
      "Requirement already satisfied: argon2-cffi in /Users/artefact/opt/anaconda3/lib/python3.9/site-packages (from notebook->jupyter->autoviz) (20.1.0)\n",
      "Requirement already satisfied: prometheus-client in /Users/artefact/opt/anaconda3/lib/python3.9/site-packages (from notebook->jupyter->autoviz) (0.11.0)\n",
      "Requirement already satisfied: terminado>=0.8.3 in /Users/artefact/opt/anaconda3/lib/python3.9/site-packages (from notebook->jupyter->autoviz) (0.9.4)\n",
      "Requirement already satisfied: qtpy in /Users/artefact/opt/anaconda3/lib/python3.9/site-packages (from qtconsole->jupyter->autoviz) (1.10.0)\n",
      "Requirement already satisfied: urllib3<1.27,>=1.21.1 in /Users/artefact/opt/anaconda3/lib/python3.9/site-packages (from requests->panel~=0.12.6->autoviz) (1.26.7)\n",
      "Requirement already satisfied: charset-normalizer~=2.0.0 in /Users/artefact/opt/anaconda3/lib/python3.9/site-packages (from requests->panel~=0.12.6->autoviz) (2.0.4)\n",
      "Requirement already satisfied: certifi>=2017.4.17 in /Users/artefact/opt/anaconda3/lib/python3.9/site-packages (from requests->panel~=0.12.6->autoviz) (2021.10.8)\n",
      "Requirement already satisfied: idna<4,>=2.5 in /Users/artefact/opt/anaconda3/lib/python3.9/site-packages (from requests->panel~=0.12.6->autoviz) (3.2)\n",
      "Requirement already satisfied: zipp>=0.5 in /Users/artefact/opt/anaconda3/lib/python3.9/site-packages (from importlib-metadata>=4.4->markdown->panel~=0.12.6->autoviz) (3.6.0)\n"
     ]
    },
    {
     "name": "stdout",
     "output_type": "stream",
     "text": [
      "Requirement already satisfied: nest-asyncio in /Users/artefact/opt/anaconda3/lib/python3.9/site-packages (from nbclient<0.6.0,>=0.5.0->nbconvert->jupyter->autoviz) (1.5.1)\n",
      "Requirement already satisfied: async-generator in /Users/artefact/opt/anaconda3/lib/python3.9/site-packages (from nbclient<0.6.0,>=0.5.0->nbconvert->jupyter->autoviz) (1.10)\n",
      "Requirement already satisfied: jsonschema!=2.5.0,>=2.4 in /Users/artefact/opt/anaconda3/lib/python3.9/site-packages (from nbformat>=4.2.0->ipywidgets->jupyter->autoviz) (3.2.0)\n",
      "Requirement already satisfied: cffi>=1.0.0 in /Users/artefact/opt/anaconda3/lib/python3.9/site-packages (from argon2-cffi->notebook->jupyter->autoviz) (1.14.6)\n",
      "Requirement already satisfied: pycparser in /Users/artefact/opt/anaconda3/lib/python3.9/site-packages (from cffi>=1.0.0->argon2-cffi->notebook->jupyter->autoviz) (2.20)\n",
      "Requirement already satisfied: pyrsistent>=0.14.0 in /Users/artefact/opt/anaconda3/lib/python3.9/site-packages (from jsonschema!=2.5.0,>=2.4->nbformat>=4.2.0->ipywidgets->jupyter->autoviz) (0.18.0)\n",
      "Requirement already satisfied: attrs>=17.4.0 in /Users/artefact/opt/anaconda3/lib/python3.9/site-packages (from jsonschema!=2.5.0,>=2.4->nbformat>=4.2.0->ipywidgets->jupyter->autoviz) (21.2.0)\n",
      "Building wheels for collected packages: emoji\n",
      "  Building wheel for emoji (setup.py) ... \u001b[?25ldone\n",
      "\u001b[?25h  Created wheel for emoji: filename=emoji-2.0.0-py3-none-any.whl size=193021 sha256=6ea134cd89f0bc75a40bfe963b17a1030433796ffac9883b2094391a1e3a2f28\n",
      "  Stored in directory: /Users/artefact/Library/Caches/pip/wheels/af/a3/d8/d5fdb4529eba010178180726ef53f835c8e7c8cb9ba156b337\n",
      "Successfully built emoji\n",
      "Installing collected packages: emoji, typing-extensions, param, textblob, pyviz-comms, pyct, pyamg, markdown, bokeh, wordcloud, panel, colorcet, holoviews, hvplot, autoviz\n",
      "  Attempting uninstall: typing-extensions\n",
      "    Found existing installation: typing-extensions 3.10.0.2\n",
      "    Uninstalling typing-extensions-3.10.0.2:\n",
      "      Successfully uninstalled typing-extensions-3.10.0.2\n",
      "  Attempting uninstall: bokeh\n",
      "    Found existing installation: bokeh 2.4.1\n",
      "    Uninstalling bokeh-2.4.1:\n",
      "      Successfully uninstalled bokeh-2.4.1\n",
      "\u001b[31mERROR: pip's dependency resolver does not currently take into account all the packages that are installed. This behaviour is the source of the following dependency conflicts.\n",
      "pandas-profiling 3.2.0 requires markupsafe~=2.1.1, but you have markupsafe 2.0.1 which is incompatible.\u001b[0m\u001b[31m\n",
      "\u001b[0mSuccessfully installed autoviz-0.1.53 bokeh-2.4.3 colorcet-3.0.0 emoji-2.0.0 holoviews-1.14.9 hvplot-0.8.1 markdown-3.4.1 panel-0.12.7 param-1.12.2 pyamg-4.2.3 pyct-0.4.8 pyviz-comms-2.2.1 textblob-0.17.1 typing-extensions-4.3.0 wordcloud-1.8.2.2\n"
     ]
    }
   ],
   "source": [
    "!pip install autoviz -i https://pypi.tuna.tsinghua.edu.cn/simple"
   ]
  },
  {
   "cell_type": "code",
   "execution_count": 8,
   "metadata": {},
   "outputs": [
    {
     "name": "stdout",
     "output_type": "stream",
     "text": [
      "Collecting plotly_express\n",
      "  Downloading plotly_express-0.4.1-py2.py3-none-any.whl (2.9 kB)\n",
      "Requirement already satisfied: plotly>=4.1.0 in /Users/artefact/opt/anaconda3/lib/python3.9/site-packages (from plotly_express) (5.10.0)\n",
      "Requirement already satisfied: scipy>=0.18 in /Users/artefact/opt/anaconda3/lib/python3.9/site-packages (from plotly_express) (1.7.1)\n",
      "Requirement already satisfied: numpy>=1.11 in /Users/artefact/opt/anaconda3/lib/python3.9/site-packages (from plotly_express) (1.20.3)\n",
      "Requirement already satisfied: statsmodels>=0.9.0 in /Users/artefact/opt/anaconda3/lib/python3.9/site-packages (from plotly_express) (0.12.2)\n",
      "Requirement already satisfied: patsy>=0.5 in /Users/artefact/opt/anaconda3/lib/python3.9/site-packages (from plotly_express) (0.5.2)\n",
      "Requirement already satisfied: pandas>=0.20.0 in /Users/artefact/opt/anaconda3/lib/python3.9/site-packages (from plotly_express) (1.3.4)\n",
      "Requirement already satisfied: python-dateutil>=2.7.3 in /Users/artefact/opt/anaconda3/lib/python3.9/site-packages (from pandas>=0.20.0->plotly_express) (2.8.2)\n",
      "Requirement already satisfied: pytz>=2017.3 in /Users/artefact/opt/anaconda3/lib/python3.9/site-packages (from pandas>=0.20.0->plotly_express) (2021.3)\n",
      "Requirement already satisfied: six in /Users/artefact/opt/anaconda3/lib/python3.9/site-packages (from patsy>=0.5->plotly_express) (1.16.0)\n",
      "Requirement already satisfied: tenacity>=6.2.0 in /Users/artefact/opt/anaconda3/lib/python3.9/site-packages (from plotly>=4.1.0->plotly_express) (8.0.1)\n",
      "Installing collected packages: plotly_express\n",
      "Successfully installed plotly_express-0.4.1\n"
     ]
    }
   ],
   "source": [
    "!pip install plotly_express"
   ]
  },
  {
   "cell_type": "code",
   "execution_count": 9,
   "metadata": {},
   "outputs": [],
   "source": [
    "# Version:\n",
    "# --Python 3.8.5-- \n",
    "# autoviz==0.0.81\n",
    "# numpy==1.19.3\n",
    "# openpyxl==3.0.5\n",
    "# pandas==1.2.0\n",
    "# pandas-profiling==2.9.0\n",
    "# plotly==4.14.1\n",
    "# plotly-express==0.4.1\n",
    "# xlrd==2.0.1\n",
    "\n",
    "# Imports:\n",
    "import autoviz\n",
    "import numpy as np\n",
    "import openpyxl\n",
    "import pandas\n",
    "from pandas_profiling import ProfileReport\n",
    "import plotly\n",
    "import plotly_express as px\n",
    "import xlrd"
   ]
  },
  {
   "cell_type": "markdown",
   "metadata": {},
   "source": [
    "#### Plotly Template Settings"
   ]
  },
  {
   "cell_type": "code",
   "execution_count": 2,
   "metadata": {},
   "outputs": [],
   "source": [
    "# -- Settings Plotly template\n",
    "#      Reference Link:\n",
    "#      https://plotly.com/python/templates/\n",
    "#      Try other themes: 'plotly_dark', 'plotly_white', 'ggplot2', 'seaborn', 'simple_white'\n"
   ]
  },
  {
   "cell_type": "markdown",
   "metadata": {},
   "source": [
    "### Load DataFrame"
   ]
  },
  {
   "cell_type": "markdown",
   "metadata": {},
   "source": [
    "**Load DataFrame and store it in a variable called \"df\"**"
   ]
  },
  {
   "cell_type": "code",
   "execution_count": null,
   "metadata": {},
   "outputs": [],
   "source": [
    "df = pd."
   ]
  },
  {
   "cell_type": "markdown",
   "metadata": {},
   "source": [
    "**Inspect first 5 rows of the DataFrame**"
   ]
  },
  {
   "cell_type": "code",
   "execution_count": null,
   "metadata": {
    "scrolled": true
   },
   "outputs": [],
   "source": []
  },
  {
   "cell_type": "markdown",
   "metadata": {},
   "source": [
    "# Explore Dataset"
   ]
  },
  {
   "cell_type": "markdown",
   "metadata": {},
   "source": [
    "## Traditionally"
   ]
  },
  {
   "cell_type": "code",
   "execution_count": 3,
   "metadata": {},
   "outputs": [],
   "source": [
    "# Basic Info about DataFrame\n"
   ]
  },
  {
   "cell_type": "code",
   "execution_count": 4,
   "metadata": {
    "scrolled": true
   },
   "outputs": [],
   "source": [
    "# Describe Method\n"
   ]
  },
  {
   "cell_type": "code",
   "execution_count": 5,
   "metadata": {},
   "outputs": [],
   "source": [
    "# Get a view of unique values in column, e.g. 'Ship Mode'\n"
   ]
  },
  {
   "cell_type": "code",
   "execution_count": 6,
   "metadata": {},
   "outputs": [],
   "source": [
    "# NaN count for each column\n"
   ]
  },
  {
   "cell_type": "markdown",
   "metadata": {},
   "source": [
    "## Automated Reports"
   ]
  },
  {
   "cell_type": "markdown",
   "metadata": {},
   "source": [
    "#### Pandas Profiling Report"
   ]
  },
  {
   "cell_type": "code",
   "execution_count": 8,
   "metadata": {},
   "outputs": [],
   "source": [
    "# Generate Pandas Profiling Report\n",
    "\n",
    "\n",
    "# View in Notebook\n"
   ]
  },
  {
   "cell_type": "code",
   "execution_count": 9,
   "metadata": {},
   "outputs": [],
   "source": [
    "# Export Pandas Profiling Report to HTML\n"
   ]
  },
  {
   "cell_type": "markdown",
   "metadata": {},
   "source": [
    "#### Auto Viz Report"
   ]
  },
  {
   "cell_type": "code",
   "execution_count": null,
   "metadata": {},
   "outputs": [],
   "source": []
  },
  {
   "cell_type": "markdown",
   "metadata": {},
   "source": [
    "# Data Preperation & Analysis"
   ]
  },
  {
   "cell_type": "markdown",
   "metadata": {},
   "source": [
    "### 🚩 TASKS:\n",
    "- What was the highest Sale in 2020?\n",
    "- What is average discount rate of charis?\n",
    "- Add extra columns to seperate Year & Month from the Order Date\n",
    "- Add a new column to calculate the Profit Margin for each sales record\n",
    "- Export manipulated dataframe to Excel\n",
    "- Create a new dataframe to reflect total Profit & Sales by Sub-Category\n",
    "- Develop a function, to return a dataframe which is grouped by a particular column (as an input)"
   ]
  },
  {
   "cell_type": "markdown",
   "metadata": {},
   "source": [
    "**What was the highest Sale?**"
   ]
  },
  {
   "cell_type": "code",
   "execution_count": 10,
   "metadata": {},
   "outputs": [],
   "source": [
    "# Highest Sale\n"
   ]
  },
  {
   "cell_type": "markdown",
   "metadata": {},
   "source": [
    "**What is average Discount of charis?**"
   ]
  },
  {
   "cell_type": "code",
   "execution_count": 12,
   "metadata": {},
   "outputs": [],
   "source": [
    "# Create Boolean mask\n",
    "\n",
    "\n",
    "# Use Boolean mask to filter dataframe\n"
   ]
  },
  {
   "cell_type": "markdown",
   "metadata": {},
   "source": [
    "**Add an extra column for \"Order Month\" & \"Order Year\"**"
   ]
  },
  {
   "cell_type": "code",
   "execution_count": null,
   "metadata": {},
   "outputs": [],
   "source": []
  },
  {
   "cell_type": "markdown",
   "metadata": {},
   "source": [
    "**Add a new column to calculate the Profit Margin for each sales record**"
   ]
  },
  {
   "cell_type": "code",
   "execution_count": null,
   "metadata": {},
   "outputs": [],
   "source": []
  },
  {
   "cell_type": "markdown",
   "metadata": {},
   "source": [
    "**Export manipulated dataframe back to excel**"
   ]
  },
  {
   "cell_type": "code",
   "execution_count": null,
   "metadata": {},
   "outputs": [],
   "source": []
  },
  {
   "cell_type": "markdown",
   "metadata": {},
   "source": [
    "#### Total Profit &Sales by Sub-Category"
   ]
  },
  {
   "cell_type": "code",
   "execution_count": 14,
   "metadata": {},
   "outputs": [],
   "source": [
    "# Group By Sub-Category [SUM]\n",
    "\n",
    "# Reset Index\n"
   ]
  },
  {
   "cell_type": "markdown",
   "metadata": {},
   "source": [
    "#### Develop a function, to return a dataframe which is grouped by a particular column (as an input)"
   ]
  },
  {
   "cell_type": "code",
   "execution_count": 16,
   "metadata": {},
   "outputs": [],
   "source": [
    "# Groupby as a function\n",
    "\n",
    "    \n",
    "# Group DataFrame by Segment\n"
   ]
  },
  {
   "cell_type": "markdown",
   "metadata": {},
   "source": [
    "# Further Deep Dive & Visualization"
   ]
  },
  {
   "cell_type": "markdown",
   "metadata": {},
   "source": [
    "### 🚩 Objective: \n",
    "- Further Analysis/Deep Dive using various kind of Charts\n",
    "- Prepare/Refactor Dataframe for different Charttypes\n",
    "- Generate & Export 'Ready-To-Present- Charts': Clean & Interactive\n",
    "-----\n",
    "#### 📊 Chart Types:\n",
    "- [x]  Histogram\n",
    "- [x] Boxpot\n",
    "- [x] Various Barplots\n",
    "- [x] Scatterplot\n",
    "- [x] Linechart"
   ]
  },
  {
   "cell_type": "markdown",
   "metadata": {},
   "source": [
    "**Distribution Sales [Histogram]**"
   ]
  },
  {
   "cell_type": "code",
   "execution_count": 17,
   "metadata": {},
   "outputs": [],
   "source": [
    "# Quick Stats Overview for Sales\n"
   ]
  },
  {
   "cell_type": "code",
   "execution_count": 18,
   "metadata": {},
   "outputs": [],
   "source": [
    "# Create Chart\n",
    "\n",
    "# Plot Chart\n"
   ]
  },
  {
   "cell_type": "markdown",
   "metadata": {},
   "source": [
    "**Show the distribution and skewness of Sales [Boxplot]**"
   ]
  },
  {
   "cell_type": "code",
   "execution_count": 19,
   "metadata": {},
   "outputs": [],
   "source": [
    "# Create Chart\n",
    "\n",
    "# Plot Chart\n"
   ]
  },
  {
   "cell_type": "markdown",
   "metadata": {},
   "source": [
    "**Plot Sales by Sub-Category**"
   ]
  },
  {
   "cell_type": "code",
   "execution_count": 20,
   "metadata": {},
   "outputs": [],
   "source": [
    "# Create Dataframe\n"
   ]
  },
  {
   "cell_type": "code",
   "execution_count": 22,
   "metadata": {},
   "outputs": [],
   "source": [
    "# Create Chart\n",
    "\n",
    "\n",
    "# Display Plot\n",
    "\n",
    "\n",
    "# Export Chart to HTML\n"
   ]
  },
  {
   "cell_type": "markdown",
   "metadata": {},
   "source": [
    "**Plot Profit by Sub-Category**"
   ]
  },
  {
   "cell_type": "code",
   "execution_count": 23,
   "metadata": {},
   "outputs": [],
   "source": [
    "# Create Chart\n",
    "\n",
    "\n",
    "# Display Plot\n",
    "\n",
    "\n",
    "# Export Chart to HTML\n"
   ]
  },
  {
   "cell_type": "markdown",
   "metadata": {},
   "source": [
    "**Plot Sales & Profit by Sub-Category**"
   ]
  },
  {
   "cell_type": "code",
   "execution_count": 25,
   "metadata": {},
   "outputs": [],
   "source": [
    "# Create Chart\n",
    "\n",
    "\n",
    "# Display Plot\n",
    "\n",
    "\n",
    "# Export Chart to HTML\n"
   ]
  },
  {
   "cell_type": "markdown",
   "metadata": {},
   "source": [
    "#### Inspect Negative Profit of Tables"
   ]
  },
  {
   "cell_type": "markdown",
   "metadata": {},
   "source": [
    "Is there any linear correlation between Sales/Profit & Discount? [Scatterplot]"
   ]
  },
  {
   "cell_type": "code",
   "execution_count": 26,
   "metadata": {},
   "outputs": [],
   "source": [
    "# Create Chart\n",
    "\n",
    "\n",
    "# Display Plot\n",
    "\n",
    "\n",
    "# Export Chart to HTML\n"
   ]
  },
  {
   "cell_type": "markdown",
   "metadata": {},
   "source": [
    "**Check Discount mean by Sub Category**"
   ]
  },
  {
   "cell_type": "code",
   "execution_count": 28,
   "metadata": {},
   "outputs": [],
   "source": [
    "# Create new dataframe: Group by 'Sub-Category' and aggregate the mean of 'Discount'\n",
    "\n",
    "\n",
    "# Display first 5 rows of new dataframe\n"
   ]
  },
  {
   "cell_type": "markdown",
   "metadata": {},
   "source": [
    "**Plot Mean Discount by Sub Category**"
   ]
  },
  {
   "cell_type": "code",
   "execution_count": 29,
   "metadata": {},
   "outputs": [],
   "source": [
    "# Create Chart\n",
    "\n",
    "\n",
    "# Display Plot\n",
    "\n",
    "\n",
    "# Export Chart to HTML\n"
   ]
  },
  {
   "cell_type": "markdown",
   "metadata": {},
   "source": [
    "**Plot Sales & Profit Development for the year 2020**"
   ]
  },
  {
   "cell_type": "code",
   "execution_count": 31,
   "metadata": {},
   "outputs": [],
   "source": [
    "# Sort Values by Order Date\n",
    "\n",
    "# Add cumulative Sales & Profit\n",
    "\n",
    "# Print tail & head of sorted dataframe\n"
   ]
  },
  {
   "cell_type": "code",
   "execution_count": 32,
   "metadata": {},
   "outputs": [],
   "source": [
    "# Create Chart\n",
    "\n",
    "# Display Plot\n",
    "\n",
    "# Export Chart to HTML\n"
   ]
  }
 ],
 "metadata": {
  "kernelspec": {
   "display_name": "Python 3 (ipykernel)",
   "language": "python",
   "name": "python3"
  },
  "language_info": {
   "codemirror_mode": {
    "name": "ipython",
    "version": 3
   },
   "file_extension": ".py",
   "mimetype": "text/x-python",
   "name": "python",
   "nbconvert_exporter": "python",
   "pygments_lexer": "ipython3",
   "version": "3.9.7"
  },
  "toc": {
   "base_numbering": 1,
   "nav_menu": {},
   "number_sections": false,
   "sideBar": true,
   "skip_h1_title": false,
   "title_cell": "Table of Contents",
   "title_sidebar": "Contents",
   "toc_cell": false,
   "toc_position": {},
   "toc_section_display": true,
   "toc_window_display": false
  }
 },
 "nbformat": 4,
 "nbformat_minor": 4
}
