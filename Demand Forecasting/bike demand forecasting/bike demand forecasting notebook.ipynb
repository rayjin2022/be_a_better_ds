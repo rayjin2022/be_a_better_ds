{
 "cells": [
  {
   "cell_type": "markdown",
   "id": "56767a79",
   "metadata": {},
   "source": [
    "# I. Initial preparation\n",
    "\n",
    "read data, quick eda \n",
    "\n",
    "Note: data process functions are built afterwards"
   ]
  },
  {
   "cell_type": "code",
   "execution_count": 1,
   "id": "aac33417",
   "metadata": {},
   "outputs": [],
   "source": [
    "\n",
    "from bike_demand_utils import *\n",
    "\n",
    "import pandas as pd\n",
    "import numpy as np\n",
    "from matplotlib import pyplot as plt\n",
    "import pandas_profiling as pp\n",
    "from datetime import datetime\n",
    "from xgboost import XGBRegressor\n",
    "import seaborn as sn\n",
    "from sklearn.metrics import mean_squared_log_error\n",
    "from sklearn import linear_model\n",
    "import collections\n",
    "from sklearn.model_selection import RandomizedSearchCV"
   ]
  },
  {
   "cell_type": "code",
   "execution_count": 2,
   "id": "e4d3b492",
   "metadata": {
    "scrolled": true
   },
   "outputs": [
    {
     "data": {
      "text/html": [
       "<div>\n",
       "<style scoped>\n",
       "    .dataframe tbody tr th:only-of-type {\n",
       "        vertical-align: middle;\n",
       "    }\n",
       "\n",
       "    .dataframe tbody tr th {\n",
       "        vertical-align: top;\n",
       "    }\n",
       "\n",
       "    .dataframe thead th {\n",
       "        text-align: right;\n",
       "    }\n",
       "</style>\n",
       "<table border=\"1\" class=\"dataframe\">\n",
       "  <thead>\n",
       "    <tr style=\"text-align: right;\">\n",
       "      <th></th>\n",
       "      <th>datetime</th>\n",
       "      <th>season</th>\n",
       "      <th>holiday</th>\n",
       "      <th>workingday</th>\n",
       "      <th>weather</th>\n",
       "      <th>temp</th>\n",
       "      <th>atemp</th>\n",
       "      <th>humidity</th>\n",
       "      <th>windspeed</th>\n",
       "      <th>casual</th>\n",
       "      <th>registered</th>\n",
       "      <th>count</th>\n",
       "    </tr>\n",
       "  </thead>\n",
       "  <tbody>\n",
       "    <tr>\n",
       "      <th>10881</th>\n",
       "      <td>2012-12-19 19:00:00</td>\n",
       "      <td>4</td>\n",
       "      <td>0</td>\n",
       "      <td>1</td>\n",
       "      <td>1</td>\n",
       "      <td>15.58</td>\n",
       "      <td>19.695</td>\n",
       "      <td>50</td>\n",
       "      <td>26.0027</td>\n",
       "      <td>7</td>\n",
       "      <td>329</td>\n",
       "      <td>336</td>\n",
       "    </tr>\n",
       "    <tr>\n",
       "      <th>10882</th>\n",
       "      <td>2012-12-19 20:00:00</td>\n",
       "      <td>4</td>\n",
       "      <td>0</td>\n",
       "      <td>1</td>\n",
       "      <td>1</td>\n",
       "      <td>14.76</td>\n",
       "      <td>17.425</td>\n",
       "      <td>57</td>\n",
       "      <td>15.0013</td>\n",
       "      <td>10</td>\n",
       "      <td>231</td>\n",
       "      <td>241</td>\n",
       "    </tr>\n",
       "    <tr>\n",
       "      <th>10883</th>\n",
       "      <td>2012-12-19 21:00:00</td>\n",
       "      <td>4</td>\n",
       "      <td>0</td>\n",
       "      <td>1</td>\n",
       "      <td>1</td>\n",
       "      <td>13.94</td>\n",
       "      <td>15.910</td>\n",
       "      <td>61</td>\n",
       "      <td>15.0013</td>\n",
       "      <td>4</td>\n",
       "      <td>164</td>\n",
       "      <td>168</td>\n",
       "    </tr>\n",
       "    <tr>\n",
       "      <th>10884</th>\n",
       "      <td>2012-12-19 22:00:00</td>\n",
       "      <td>4</td>\n",
       "      <td>0</td>\n",
       "      <td>1</td>\n",
       "      <td>1</td>\n",
       "      <td>13.94</td>\n",
       "      <td>17.425</td>\n",
       "      <td>61</td>\n",
       "      <td>6.0032</td>\n",
       "      <td>12</td>\n",
       "      <td>117</td>\n",
       "      <td>129</td>\n",
       "    </tr>\n",
       "    <tr>\n",
       "      <th>10885</th>\n",
       "      <td>2012-12-19 23:00:00</td>\n",
       "      <td>4</td>\n",
       "      <td>0</td>\n",
       "      <td>1</td>\n",
       "      <td>1</td>\n",
       "      <td>13.12</td>\n",
       "      <td>16.665</td>\n",
       "      <td>66</td>\n",
       "      <td>8.9981</td>\n",
       "      <td>4</td>\n",
       "      <td>84</td>\n",
       "      <td>88</td>\n",
       "    </tr>\n",
       "  </tbody>\n",
       "</table>\n",
       "</div>"
      ],
      "text/plain": [
       "                  datetime  season  holiday  workingday  weather   temp  \\\n",
       "10881  2012-12-19 19:00:00       4        0           1        1  15.58   \n",
       "10882  2012-12-19 20:00:00       4        0           1        1  14.76   \n",
       "10883  2012-12-19 21:00:00       4        0           1        1  13.94   \n",
       "10884  2012-12-19 22:00:00       4        0           1        1  13.94   \n",
       "10885  2012-12-19 23:00:00       4        0           1        1  13.12   \n",
       "\n",
       "        atemp  humidity  windspeed  casual  registered  count  \n",
       "10881  19.695        50    26.0027       7         329    336  \n",
       "10882  17.425        57    15.0013      10         231    241  \n",
       "10883  15.910        61    15.0013       4         164    168  \n",
       "10884  17.425        61     6.0032      12         117    129  \n",
       "10885  16.665        66     8.9981       4          84     88  "
      ]
     },
     "execution_count": 2,
     "metadata": {},
     "output_type": "execute_result"
    }
   ],
   "source": [
    "train = pd.read_csv('train.csv')\n",
    "train.tail()"
   ]
  },
  {
   "cell_type": "code",
   "execution_count": 3,
   "id": "5a6dcd33",
   "metadata": {
    "scrolled": true
   },
   "outputs": [
    {
     "data": {
      "text/html": [
       "<div>\n",
       "<style scoped>\n",
       "    .dataframe tbody tr th:only-of-type {\n",
       "        vertical-align: middle;\n",
       "    }\n",
       "\n",
       "    .dataframe tbody tr th {\n",
       "        vertical-align: top;\n",
       "    }\n",
       "\n",
       "    .dataframe thead th {\n",
       "        text-align: right;\n",
       "    }\n",
       "</style>\n",
       "<table border=\"1\" class=\"dataframe\">\n",
       "  <thead>\n",
       "    <tr style=\"text-align: right;\">\n",
       "      <th></th>\n",
       "      <th>datetime</th>\n",
       "      <th>season</th>\n",
       "      <th>holiday</th>\n",
       "      <th>workingday</th>\n",
       "      <th>weather</th>\n",
       "      <th>temp</th>\n",
       "      <th>atemp</th>\n",
       "      <th>humidity</th>\n",
       "      <th>windspeed</th>\n",
       "      <th>casual</th>\n",
       "      <th>...</th>\n",
       "      <th>season_2</th>\n",
       "      <th>season_3</th>\n",
       "      <th>season_4</th>\n",
       "      <th>weather_1</th>\n",
       "      <th>weather_2</th>\n",
       "      <th>weather_3</th>\n",
       "      <th>weather_4</th>\n",
       "      <th>is_workday_morning_peak</th>\n",
       "      <th>is_workday_afternoon_peak</th>\n",
       "      <th>is_workday_night_time</th>\n",
       "    </tr>\n",
       "  </thead>\n",
       "  <tbody>\n",
       "    <tr>\n",
       "      <th>0</th>\n",
       "      <td>2011-01-01 00:00:00</td>\n",
       "      <td>1</td>\n",
       "      <td>0</td>\n",
       "      <td>0</td>\n",
       "      <td>1</td>\n",
       "      <td>9.84</td>\n",
       "      <td>14.395</td>\n",
       "      <td>81.0</td>\n",
       "      <td>0.0</td>\n",
       "      <td>3</td>\n",
       "      <td>...</td>\n",
       "      <td>0</td>\n",
       "      <td>0</td>\n",
       "      <td>0</td>\n",
       "      <td>1</td>\n",
       "      <td>0</td>\n",
       "      <td>0</td>\n",
       "      <td>0</td>\n",
       "      <td>0</td>\n",
       "      <td>0</td>\n",
       "      <td>0</td>\n",
       "    </tr>\n",
       "  </tbody>\n",
       "</table>\n",
       "<p>1 rows × 30 columns</p>\n",
       "</div>"
      ],
      "text/plain": [
       "              datetime season  holiday  workingday weather  temp   atemp  \\\n",
       "0  2011-01-01 00:00:00      1        0           0       1  9.84  14.395   \n",
       "\n",
       "   humidity  windspeed  casual  ...  season_2  season_3 season_4 weather_1  \\\n",
       "0      81.0        0.0       3  ...         0         0        0         1   \n",
       "\n",
       "  weather_2  weather_3  weather_4  is_workday_morning_peak  \\\n",
       "0         0          0          0                        0   \n",
       "\n",
       "   is_workday_afternoon_peak  is_workday_night_time  \n",
       "0                          0                      0  \n",
       "\n",
       "[1 rows x 30 columns]"
      ]
     },
     "execution_count": 3,
     "metadata": {},
     "output_type": "execute_result"
    }
   ],
   "source": [
    "# How to call data processing function\n",
    "\n",
    "train_processed = data_process(train).complete_wrangling()\n",
    "train_processed.head(1)"
   ]
  },
  {
   "cell_type": "code",
   "execution_count": 4,
   "id": "c11ad915",
   "metadata": {
    "scrolled": true
   },
   "outputs": [
    {
     "data": {
      "text/plain": [
       "datetime       object\n",
       "season          int64\n",
       "holiday         int64\n",
       "workingday      int64\n",
       "weather         int64\n",
       "temp          float64\n",
       "atemp         float64\n",
       "humidity        int64\n",
       "windspeed     float64\n",
       "casual          int64\n",
       "registered      int64\n",
       "count           int64\n",
       "dtype: object"
      ]
     },
     "execution_count": 4,
     "metadata": {},
     "output_type": "execute_result"
    }
   ],
   "source": [
    "train.dtypes"
   ]
  },
  {
   "cell_type": "code",
   "execution_count": 5,
   "id": "050ecd73",
   "metadata": {},
   "outputs": [
    {
     "data": {
      "text/plain": [
       "(10886, 12)"
      ]
     },
     "execution_count": 5,
     "metadata": {},
     "output_type": "execute_result"
    }
   ],
   "source": [
    "train.shape"
   ]
  },
  {
   "cell_type": "code",
   "execution_count": 6,
   "id": "56d70db6",
   "metadata": {},
   "outputs": [
    {
     "data": {
      "text/html": [
       "<div>\n",
       "<style scoped>\n",
       "    .dataframe tbody tr th:only-of-type {\n",
       "        vertical-align: middle;\n",
       "    }\n",
       "\n",
       "    .dataframe tbody tr th {\n",
       "        vertical-align: top;\n",
       "    }\n",
       "\n",
       "    .dataframe thead th {\n",
       "        text-align: right;\n",
       "    }\n",
       "</style>\n",
       "<table border=\"1\" class=\"dataframe\">\n",
       "  <thead>\n",
       "    <tr style=\"text-align: right;\">\n",
       "      <th></th>\n",
       "      <th>datetime</th>\n",
       "      <th>season</th>\n",
       "      <th>holiday</th>\n",
       "      <th>workingday</th>\n",
       "      <th>weather</th>\n",
       "      <th>temp</th>\n",
       "      <th>atemp</th>\n",
       "      <th>humidity</th>\n",
       "      <th>windspeed</th>\n",
       "    </tr>\n",
       "  </thead>\n",
       "  <tbody>\n",
       "    <tr>\n",
       "      <th>6488</th>\n",
       "      <td>2012-12-31 19:00:00</td>\n",
       "      <td>1</td>\n",
       "      <td>0</td>\n",
       "      <td>1</td>\n",
       "      <td>2</td>\n",
       "      <td>10.66</td>\n",
       "      <td>12.880</td>\n",
       "      <td>60</td>\n",
       "      <td>11.0014</td>\n",
       "    </tr>\n",
       "    <tr>\n",
       "      <th>6489</th>\n",
       "      <td>2012-12-31 20:00:00</td>\n",
       "      <td>1</td>\n",
       "      <td>0</td>\n",
       "      <td>1</td>\n",
       "      <td>2</td>\n",
       "      <td>10.66</td>\n",
       "      <td>12.880</td>\n",
       "      <td>60</td>\n",
       "      <td>11.0014</td>\n",
       "    </tr>\n",
       "    <tr>\n",
       "      <th>6490</th>\n",
       "      <td>2012-12-31 21:00:00</td>\n",
       "      <td>1</td>\n",
       "      <td>0</td>\n",
       "      <td>1</td>\n",
       "      <td>1</td>\n",
       "      <td>10.66</td>\n",
       "      <td>12.880</td>\n",
       "      <td>60</td>\n",
       "      <td>11.0014</td>\n",
       "    </tr>\n",
       "    <tr>\n",
       "      <th>6491</th>\n",
       "      <td>2012-12-31 22:00:00</td>\n",
       "      <td>1</td>\n",
       "      <td>0</td>\n",
       "      <td>1</td>\n",
       "      <td>1</td>\n",
       "      <td>10.66</td>\n",
       "      <td>13.635</td>\n",
       "      <td>56</td>\n",
       "      <td>8.9981</td>\n",
       "    </tr>\n",
       "    <tr>\n",
       "      <th>6492</th>\n",
       "      <td>2012-12-31 23:00:00</td>\n",
       "      <td>1</td>\n",
       "      <td>0</td>\n",
       "      <td>1</td>\n",
       "      <td>1</td>\n",
       "      <td>10.66</td>\n",
       "      <td>13.635</td>\n",
       "      <td>65</td>\n",
       "      <td>8.9981</td>\n",
       "    </tr>\n",
       "  </tbody>\n",
       "</table>\n",
       "</div>"
      ],
      "text/plain": [
       "                 datetime  season  holiday  workingday  weather   temp  \\\n",
       "6488  2012-12-31 19:00:00       1        0           1        2  10.66   \n",
       "6489  2012-12-31 20:00:00       1        0           1        2  10.66   \n",
       "6490  2012-12-31 21:00:00       1        0           1        1  10.66   \n",
       "6491  2012-12-31 22:00:00       1        0           1        1  10.66   \n",
       "6492  2012-12-31 23:00:00       1        0           1        1  10.66   \n",
       "\n",
       "       atemp  humidity  windspeed  \n",
       "6488  12.880        60    11.0014  \n",
       "6489  12.880        60    11.0014  \n",
       "6490  12.880        60    11.0014  \n",
       "6491  13.635        56     8.9981  \n",
       "6492  13.635        65     8.9981  "
      ]
     },
     "execution_count": 6,
     "metadata": {},
     "output_type": "execute_result"
    }
   ],
   "source": [
    "test = pd.read_csv('test.csv')\n",
    "test.tail()"
   ]
  },
  {
   "cell_type": "code",
   "execution_count": 7,
   "id": "fe86cce6",
   "metadata": {},
   "outputs": [
    {
     "data": {
      "text/plain": [
       "datetime       object\n",
       "season          int64\n",
       "holiday         int64\n",
       "workingday      int64\n",
       "weather         int64\n",
       "temp          float64\n",
       "atemp         float64\n",
       "humidity        int64\n",
       "windspeed     float64\n",
       "dtype: object"
      ]
     },
     "execution_count": 7,
     "metadata": {},
     "output_type": "execute_result"
    }
   ],
   "source": [
    "test.dtypes"
   ]
  },
  {
   "cell_type": "code",
   "execution_count": 8,
   "id": "260a111a",
   "metadata": {
    "scrolled": false
   },
   "outputs": [],
   "source": [
    "#profile = pp.ProfileReport(train, title=\"Pandas Profiling Report\")\n",
    "#profile.to_file(\"bike_pp_20220822.html\")"
   ]
  },
  {
   "cell_type": "markdown",
   "id": "5b17a3c0",
   "metadata": {},
   "source": [
    "## 1.1 Pandas Profiling Quick EDA Results\n",
    "\n",
    "#### 1.1.1 Missing Values\n",
    "\n",
    "Only 1 row\n",
    "\n",
    "#### 1.1.2 correlation\n",
    "\n",
    "Casual & registered and count are highly correlated, but only exist in training data, not in test data, which will lead to data leakage if used as explanatory variables. Therefore it needs to be deleted.\n",
    "\n",
    "There is a high correlation between wind speed and season and humidity.\n",
    "\n",
    "\n",
    "#### 1.1.3 Anomaly distribution\n",
    "\n",
    "Windspeed = 0 occurs more frequently\n",
    "\n",
    "weather = 4 (extreme weather such as heavy rain and snow) only occurs once\n",
    "\n",
    "The frequency of holiday is only 3%\n"
   ]
  },
  {
   "cell_type": "markdown",
   "id": "69ba44c6",
   "metadata": {},
   "source": [
    "## 1.2 Data Wrangling"
   ]
  },
  {
   "cell_type": "code",
   "execution_count": 9,
   "id": "5082aacd",
   "metadata": {},
   "outputs": [
    {
     "data": {
      "text/plain": [
       "Index(['datetime', 'season', 'holiday', 'workingday', 'weather', 'temp',\n",
       "       'atemp', 'humidity', 'windspeed', 'casual', 'registered', 'count'],\n",
       "      dtype='object')"
      ]
     },
     "execution_count": 9,
     "metadata": {},
     "output_type": "execute_result"
    }
   ],
   "source": [
    "train.columns"
   ]
  },
  {
   "cell_type": "code",
   "execution_count": 10,
   "id": "34916ecd",
   "metadata": {
    "scrolled": true
   },
   "outputs": [
    {
     "data": {
      "text/plain": [
       "Index(['datetime', 'season', 'holiday', 'workingday', 'weather', 'temp',\n",
       "       'atemp', 'humidity', 'windspeed'],\n",
       "      dtype='object')"
      ]
     },
     "execution_count": 10,
     "metadata": {},
     "output_type": "execute_result"
    }
   ],
   "source": [
    "test.columns"
   ]
  },
  {
   "cell_type": "code",
   "execution_count": 11,
   "id": "5144cfac",
   "metadata": {},
   "outputs": [
    {
     "data": {
      "text/html": [
       "<div>\n",
       "<style scoped>\n",
       "    .dataframe tbody tr th:only-of-type {\n",
       "        vertical-align: middle;\n",
       "    }\n",
       "\n",
       "    .dataframe tbody tr th {\n",
       "        vertical-align: top;\n",
       "    }\n",
       "\n",
       "    .dataframe thead th {\n",
       "        text-align: right;\n",
       "    }\n",
       "</style>\n",
       "<table border=\"1\" class=\"dataframe\">\n",
       "  <thead>\n",
       "    <tr style=\"text-align: right;\">\n",
       "      <th></th>\n",
       "      <th>datetime</th>\n",
       "      <th>season</th>\n",
       "      <th>holiday</th>\n",
       "      <th>workingday</th>\n",
       "      <th>weather</th>\n",
       "      <th>temp</th>\n",
       "      <th>atemp</th>\n",
       "      <th>humidity</th>\n",
       "      <th>windspeed</th>\n",
       "      <th>count</th>\n",
       "      <th>is_train</th>\n",
       "    </tr>\n",
       "  </thead>\n",
       "  <tbody>\n",
       "    <tr>\n",
       "      <th>10881</th>\n",
       "      <td>2012-12-19 19:00:00</td>\n",
       "      <td>4</td>\n",
       "      <td>0</td>\n",
       "      <td>1</td>\n",
       "      <td>1</td>\n",
       "      <td>15.58</td>\n",
       "      <td>19.695</td>\n",
       "      <td>50</td>\n",
       "      <td>26.0027</td>\n",
       "      <td>336.0</td>\n",
       "      <td>1</td>\n",
       "    </tr>\n",
       "    <tr>\n",
       "      <th>10882</th>\n",
       "      <td>2012-12-19 20:00:00</td>\n",
       "      <td>4</td>\n",
       "      <td>0</td>\n",
       "      <td>1</td>\n",
       "      <td>1</td>\n",
       "      <td>14.76</td>\n",
       "      <td>17.425</td>\n",
       "      <td>57</td>\n",
       "      <td>15.0013</td>\n",
       "      <td>241.0</td>\n",
       "      <td>1</td>\n",
       "    </tr>\n",
       "    <tr>\n",
       "      <th>10883</th>\n",
       "      <td>2012-12-19 21:00:00</td>\n",
       "      <td>4</td>\n",
       "      <td>0</td>\n",
       "      <td>1</td>\n",
       "      <td>1</td>\n",
       "      <td>13.94</td>\n",
       "      <td>15.910</td>\n",
       "      <td>61</td>\n",
       "      <td>15.0013</td>\n",
       "      <td>168.0</td>\n",
       "      <td>1</td>\n",
       "    </tr>\n",
       "    <tr>\n",
       "      <th>10884</th>\n",
       "      <td>2012-12-19 22:00:00</td>\n",
       "      <td>4</td>\n",
       "      <td>0</td>\n",
       "      <td>1</td>\n",
       "      <td>1</td>\n",
       "      <td>13.94</td>\n",
       "      <td>17.425</td>\n",
       "      <td>61</td>\n",
       "      <td>6.0032</td>\n",
       "      <td>129.0</td>\n",
       "      <td>1</td>\n",
       "    </tr>\n",
       "    <tr>\n",
       "      <th>10885</th>\n",
       "      <td>2012-12-19 23:00:00</td>\n",
       "      <td>4</td>\n",
       "      <td>0</td>\n",
       "      <td>1</td>\n",
       "      <td>1</td>\n",
       "      <td>13.12</td>\n",
       "      <td>16.665</td>\n",
       "      <td>66</td>\n",
       "      <td>8.9981</td>\n",
       "      <td>88.0</td>\n",
       "      <td>1</td>\n",
       "    </tr>\n",
       "  </tbody>\n",
       "</table>\n",
       "</div>"
      ],
      "text/plain": [
       "                  datetime  season  holiday  workingday  weather   temp  \\\n",
       "10881  2012-12-19 19:00:00       4        0           1        1  15.58   \n",
       "10882  2012-12-19 20:00:00       4        0           1        1  14.76   \n",
       "10883  2012-12-19 21:00:00       4        0           1        1  13.94   \n",
       "10884  2012-12-19 22:00:00       4        0           1        1  13.94   \n",
       "10885  2012-12-19 23:00:00       4        0           1        1  13.12   \n",
       "\n",
       "        atemp  humidity  windspeed  count  is_train  \n",
       "10881  19.695        50    26.0027  336.0         1  \n",
       "10882  17.425        57    15.0013  241.0         1  \n",
       "10883  15.910        61    15.0013  168.0         1  \n",
       "10884  17.425        61     6.0032  129.0         1  \n",
       "10885  16.665        66     8.9981   88.0         1  "
      ]
     },
     "execution_count": 11,
     "metadata": {},
     "output_type": "execute_result"
    }
   ],
   "source": [
    "train = train[['datetime', 'season', 'holiday', 'workingday', 'weather', 'temp', 'atemp', 'humidity', 'windspeed','count']]\n",
    "# Select the field where test data has appeared\n",
    "train['is_train'] = 1\n",
    "test['is_train'] = 0\n",
    "data = train.append(test).reset_index(drop = True)\n",
    "data[data['is_train']== 1].tail()\n"
   ]
  },
  {
   "cell_type": "code",
   "execution_count": 12,
   "id": "6fd10fb4",
   "metadata": {},
   "outputs": [
    {
     "data": {
      "text/html": [
       "<div>\n",
       "<style scoped>\n",
       "    .dataframe tbody tr th:only-of-type {\n",
       "        vertical-align: middle;\n",
       "    }\n",
       "\n",
       "    .dataframe tbody tr th {\n",
       "        vertical-align: top;\n",
       "    }\n",
       "\n",
       "    .dataframe thead th {\n",
       "        text-align: right;\n",
       "    }\n",
       "</style>\n",
       "<table border=\"1\" class=\"dataframe\">\n",
       "  <thead>\n",
       "    <tr style=\"text-align: right;\">\n",
       "      <th></th>\n",
       "      <th>datetime</th>\n",
       "      <th>season</th>\n",
       "      <th>holiday</th>\n",
       "      <th>workingday</th>\n",
       "      <th>weather</th>\n",
       "      <th>temp</th>\n",
       "      <th>atemp</th>\n",
       "      <th>humidity</th>\n",
       "      <th>windspeed</th>\n",
       "      <th>count</th>\n",
       "      <th>is_train</th>\n",
       "      <th>season_desc</th>\n",
       "      <th>weather_desc</th>\n",
       "    </tr>\n",
       "  </thead>\n",
       "  <tbody>\n",
       "    <tr>\n",
       "      <th>17374</th>\n",
       "      <td>2012-12-31 19:00:00</td>\n",
       "      <td>1</td>\n",
       "      <td>0</td>\n",
       "      <td>1</td>\n",
       "      <td>2</td>\n",
       "      <td>10.66</td>\n",
       "      <td>12.880</td>\n",
       "      <td>60</td>\n",
       "      <td>11.0014</td>\n",
       "      <td>NaN</td>\n",
       "      <td>0</td>\n",
       "      <td>Spring</td>\n",
       "      <td>Mist + Cloudy, Mist + Broken clouds, Mist + Fe...</td>\n",
       "    </tr>\n",
       "    <tr>\n",
       "      <th>17375</th>\n",
       "      <td>2012-12-31 20:00:00</td>\n",
       "      <td>1</td>\n",
       "      <td>0</td>\n",
       "      <td>1</td>\n",
       "      <td>2</td>\n",
       "      <td>10.66</td>\n",
       "      <td>12.880</td>\n",
       "      <td>60</td>\n",
       "      <td>11.0014</td>\n",
       "      <td>NaN</td>\n",
       "      <td>0</td>\n",
       "      <td>Spring</td>\n",
       "      <td>Mist + Cloudy, Mist + Broken clouds, Mist + Fe...</td>\n",
       "    </tr>\n",
       "    <tr>\n",
       "      <th>17376</th>\n",
       "      <td>2012-12-31 21:00:00</td>\n",
       "      <td>1</td>\n",
       "      <td>0</td>\n",
       "      <td>1</td>\n",
       "      <td>1</td>\n",
       "      <td>10.66</td>\n",
       "      <td>12.880</td>\n",
       "      <td>60</td>\n",
       "      <td>11.0014</td>\n",
       "      <td>NaN</td>\n",
       "      <td>0</td>\n",
       "      <td>Spring</td>\n",
       "      <td>Clear, Few clouds, Partly cloudy, Partly cloudy</td>\n",
       "    </tr>\n",
       "    <tr>\n",
       "      <th>17377</th>\n",
       "      <td>2012-12-31 22:00:00</td>\n",
       "      <td>1</td>\n",
       "      <td>0</td>\n",
       "      <td>1</td>\n",
       "      <td>1</td>\n",
       "      <td>10.66</td>\n",
       "      <td>13.635</td>\n",
       "      <td>56</td>\n",
       "      <td>8.9981</td>\n",
       "      <td>NaN</td>\n",
       "      <td>0</td>\n",
       "      <td>Spring</td>\n",
       "      <td>Clear, Few clouds, Partly cloudy, Partly cloudy</td>\n",
       "    </tr>\n",
       "    <tr>\n",
       "      <th>17378</th>\n",
       "      <td>2012-12-31 23:00:00</td>\n",
       "      <td>1</td>\n",
       "      <td>0</td>\n",
       "      <td>1</td>\n",
       "      <td>1</td>\n",
       "      <td>10.66</td>\n",
       "      <td>13.635</td>\n",
       "      <td>65</td>\n",
       "      <td>8.9981</td>\n",
       "      <td>NaN</td>\n",
       "      <td>0</td>\n",
       "      <td>Spring</td>\n",
       "      <td>Clear, Few clouds, Partly cloudy, Partly cloudy</td>\n",
       "    </tr>\n",
       "  </tbody>\n",
       "</table>\n",
       "</div>"
      ],
      "text/plain": [
       "                  datetime  season  holiday  workingday  weather   temp  \\\n",
       "17374  2012-12-31 19:00:00       1        0           1        2  10.66   \n",
       "17375  2012-12-31 20:00:00       1        0           1        2  10.66   \n",
       "17376  2012-12-31 21:00:00       1        0           1        1  10.66   \n",
       "17377  2012-12-31 22:00:00       1        0           1        1  10.66   \n",
       "17378  2012-12-31 23:00:00       1        0           1        1  10.66   \n",
       "\n",
       "        atemp  humidity  windspeed  count  is_train season_desc  \\\n",
       "17374  12.880        60    11.0014    NaN         0      Spring   \n",
       "17375  12.880        60    11.0014    NaN         0      Spring   \n",
       "17376  12.880        60    11.0014    NaN         0      Spring   \n",
       "17377  13.635        56     8.9981    NaN         0      Spring   \n",
       "17378  13.635        65     8.9981    NaN         0      Spring   \n",
       "\n",
       "                                            weather_desc  \n",
       "17374  Mist + Cloudy, Mist + Broken clouds, Mist + Fe...  \n",
       "17375  Mist + Cloudy, Mist + Broken clouds, Mist + Fe...  \n",
       "17376    Clear, Few clouds, Partly cloudy, Partly cloudy  \n",
       "17377    Clear, Few clouds, Partly cloudy, Partly cloudy  \n",
       "17378    Clear, Few clouds, Partly cloudy, Partly cloudy  "
      ]
     },
     "execution_count": 12,
     "metadata": {},
     "output_type": "execute_result"
    }
   ],
   "source": [
    "data['season_desc'] = data['season'].apply(lambda x: mutate_season(x))\n",
    "data['weather_desc'] = data['weather'].apply(lambda x: mutate_weather(x))\n",
    "data.tail()\n"
   ]
  },
  {
   "cell_type": "code",
   "execution_count": 13,
   "id": "7f5deb44",
   "metadata": {},
   "outputs": [
    {
     "data": {
      "text/html": [
       "<div>\n",
       "<style scoped>\n",
       "    .dataframe tbody tr th:only-of-type {\n",
       "        vertical-align: middle;\n",
       "    }\n",
       "\n",
       "    .dataframe tbody tr th {\n",
       "        vertical-align: top;\n",
       "    }\n",
       "\n",
       "    .dataframe thead th {\n",
       "        text-align: right;\n",
       "    }\n",
       "</style>\n",
       "<table border=\"1\" class=\"dataframe\">\n",
       "  <thead>\n",
       "    <tr style=\"text-align: right;\">\n",
       "      <th></th>\n",
       "      <th>datetime</th>\n",
       "      <th>season</th>\n",
       "      <th>holiday</th>\n",
       "      <th>workingday</th>\n",
       "      <th>weather</th>\n",
       "      <th>temp</th>\n",
       "      <th>atemp</th>\n",
       "      <th>humidity</th>\n",
       "      <th>windspeed</th>\n",
       "      <th>count</th>\n",
       "      <th>is_train</th>\n",
       "      <th>season_desc</th>\n",
       "      <th>weather_desc</th>\n",
       "      <th>weekday</th>\n",
       "      <th>hour</th>\n",
       "      <th>month</th>\n",
       "      <th>day</th>\n",
       "      <th>year</th>\n",
       "    </tr>\n",
       "  </thead>\n",
       "  <tbody>\n",
       "    <tr>\n",
       "      <th>17374</th>\n",
       "      <td>2012-12-31 19:00:00</td>\n",
       "      <td>1</td>\n",
       "      <td>0</td>\n",
       "      <td>1</td>\n",
       "      <td>2</td>\n",
       "      <td>10.66</td>\n",
       "      <td>12.880</td>\n",
       "      <td>60</td>\n",
       "      <td>11.0014</td>\n",
       "      <td>NaN</td>\n",
       "      <td>0</td>\n",
       "      <td>Spring</td>\n",
       "      <td>Mist + Cloudy, Mist + Broken clouds, Mist + Fe...</td>\n",
       "      <td>Monday</td>\n",
       "      <td>19</td>\n",
       "      <td>12</td>\n",
       "      <td>31</td>\n",
       "      <td>2012</td>\n",
       "    </tr>\n",
       "    <tr>\n",
       "      <th>17375</th>\n",
       "      <td>2012-12-31 20:00:00</td>\n",
       "      <td>1</td>\n",
       "      <td>0</td>\n",
       "      <td>1</td>\n",
       "      <td>2</td>\n",
       "      <td>10.66</td>\n",
       "      <td>12.880</td>\n",
       "      <td>60</td>\n",
       "      <td>11.0014</td>\n",
       "      <td>NaN</td>\n",
       "      <td>0</td>\n",
       "      <td>Spring</td>\n",
       "      <td>Mist + Cloudy, Mist + Broken clouds, Mist + Fe...</td>\n",
       "      <td>Monday</td>\n",
       "      <td>20</td>\n",
       "      <td>12</td>\n",
       "      <td>31</td>\n",
       "      <td>2012</td>\n",
       "    </tr>\n",
       "    <tr>\n",
       "      <th>17376</th>\n",
       "      <td>2012-12-31 21:00:00</td>\n",
       "      <td>1</td>\n",
       "      <td>0</td>\n",
       "      <td>1</td>\n",
       "      <td>1</td>\n",
       "      <td>10.66</td>\n",
       "      <td>12.880</td>\n",
       "      <td>60</td>\n",
       "      <td>11.0014</td>\n",
       "      <td>NaN</td>\n",
       "      <td>0</td>\n",
       "      <td>Spring</td>\n",
       "      <td>Clear, Few clouds, Partly cloudy, Partly cloudy</td>\n",
       "      <td>Monday</td>\n",
       "      <td>21</td>\n",
       "      <td>12</td>\n",
       "      <td>31</td>\n",
       "      <td>2012</td>\n",
       "    </tr>\n",
       "    <tr>\n",
       "      <th>17377</th>\n",
       "      <td>2012-12-31 22:00:00</td>\n",
       "      <td>1</td>\n",
       "      <td>0</td>\n",
       "      <td>1</td>\n",
       "      <td>1</td>\n",
       "      <td>10.66</td>\n",
       "      <td>13.635</td>\n",
       "      <td>56</td>\n",
       "      <td>8.9981</td>\n",
       "      <td>NaN</td>\n",
       "      <td>0</td>\n",
       "      <td>Spring</td>\n",
       "      <td>Clear, Few clouds, Partly cloudy, Partly cloudy</td>\n",
       "      <td>Monday</td>\n",
       "      <td>22</td>\n",
       "      <td>12</td>\n",
       "      <td>31</td>\n",
       "      <td>2012</td>\n",
       "    </tr>\n",
       "    <tr>\n",
       "      <th>17378</th>\n",
       "      <td>2012-12-31 23:00:00</td>\n",
       "      <td>1</td>\n",
       "      <td>0</td>\n",
       "      <td>1</td>\n",
       "      <td>1</td>\n",
       "      <td>10.66</td>\n",
       "      <td>13.635</td>\n",
       "      <td>65</td>\n",
       "      <td>8.9981</td>\n",
       "      <td>NaN</td>\n",
       "      <td>0</td>\n",
       "      <td>Spring</td>\n",
       "      <td>Clear, Few clouds, Partly cloudy, Partly cloudy</td>\n",
       "      <td>Monday</td>\n",
       "      <td>23</td>\n",
       "      <td>12</td>\n",
       "      <td>31</td>\n",
       "      <td>2012</td>\n",
       "    </tr>\n",
       "  </tbody>\n",
       "</table>\n",
       "</div>"
      ],
      "text/plain": [
       "                  datetime  season  holiday  workingday  weather   temp  \\\n",
       "17374  2012-12-31 19:00:00       1        0           1        2  10.66   \n",
       "17375  2012-12-31 20:00:00       1        0           1        2  10.66   \n",
       "17376  2012-12-31 21:00:00       1        0           1        1  10.66   \n",
       "17377  2012-12-31 22:00:00       1        0           1        1  10.66   \n",
       "17378  2012-12-31 23:00:00       1        0           1        1  10.66   \n",
       "\n",
       "        atemp  humidity  windspeed  count  is_train season_desc  \\\n",
       "17374  12.880        60    11.0014    NaN         0      Spring   \n",
       "17375  12.880        60    11.0014    NaN         0      Spring   \n",
       "17376  12.880        60    11.0014    NaN         0      Spring   \n",
       "17377  13.635        56     8.9981    NaN         0      Spring   \n",
       "17378  13.635        65     8.9981    NaN         0      Spring   \n",
       "\n",
       "                                            weather_desc weekday  hour  month  \\\n",
       "17374  Mist + Cloudy, Mist + Broken clouds, Mist + Fe...  Monday    19     12   \n",
       "17375  Mist + Cloudy, Mist + Broken clouds, Mist + Fe...  Monday    20     12   \n",
       "17376    Clear, Few clouds, Partly cloudy, Partly cloudy  Monday    21     12   \n",
       "17377    Clear, Few clouds, Partly cloudy, Partly cloudy  Monday    22     12   \n",
       "17378    Clear, Few clouds, Partly cloudy, Partly cloudy  Monday    23     12   \n",
       "\n",
       "       day  year  \n",
       "17374   31  2012  \n",
       "17375   31  2012  \n",
       "17376   31  2012  \n",
       "17377   31  2012  \n",
       "17378   31  2012  "
      ]
     },
     "execution_count": 13,
     "metadata": {},
     "output_type": "execute_result"
    }
   ],
   "source": [
    "data['weekday'] = data['datetime'].apply(lambda x: mutate_workday(x))\n",
    "data['hour'] = data['datetime'].apply(lambda x: mutate_hour(x))\n",
    "data['month'] = data['datetime'].apply(lambda x:mutate_month(x))\n",
    "data['day'] = data['datetime'].apply(lambda x:mutate_day(x))\n",
    "data['year'] = data['datetime'].apply(lambda x:mutate_year(x))\n",
    "data.tail()"
   ]
  },
  {
   "cell_type": "markdown",
   "id": "f9c42046",
   "metadata": {},
   "source": [
    "## 1.3 Process Data Types"
   ]
  },
  {
   "cell_type": "code",
   "execution_count": 14,
   "id": "6857f019",
   "metadata": {
    "scrolled": true
   },
   "outputs": [
    {
     "data": {
      "text/plain": [
       "datetime         object\n",
       "season            int64\n",
       "holiday           int64\n",
       "workingday        int64\n",
       "weather           int64\n",
       "temp            float64\n",
       "atemp           float64\n",
       "humidity          int64\n",
       "windspeed       float64\n",
       "count           float64\n",
       "is_train          int64\n",
       "season_desc      object\n",
       "weather_desc     object\n",
       "weekday          object\n",
       "hour              int64\n",
       "month             int64\n",
       "day               int64\n",
       "year              int64\n",
       "dtype: object"
      ]
     },
     "execution_count": 14,
     "metadata": {},
     "output_type": "execute_result"
    }
   ],
   "source": [
    "data.dtypes"
   ]
  },
  {
   "cell_type": "code",
   "execution_count": 15,
   "id": "63bbe6c6",
   "metadata": {},
   "outputs": [
    {
     "data": {
      "text/plain": [
       "Index(['datetime', 'season', 'holiday', 'workingday', 'weather', 'temp',\n",
       "       'atemp', 'humidity', 'windspeed', 'count', 'is_train', 'season_desc',\n",
       "       'weather_desc', 'weekday', 'hour', 'month', 'day', 'year'],\n",
       "      dtype='object')"
      ]
     },
     "execution_count": 15,
     "metadata": {},
     "output_type": "execute_result"
    }
   ],
   "source": [
    "data.columns"
   ]
  },
  {
   "cell_type": "code",
   "execution_count": 16,
   "id": "03e5bdb1",
   "metadata": {
    "scrolled": true
   },
   "outputs": [
    {
     "data": {
      "text/plain": [
       "datetime         object\n",
       "season           object\n",
       "holiday           int64\n",
       "workingday        int64\n",
       "weather          object\n",
       "temp            float64\n",
       "atemp           float64\n",
       "humidity        float64\n",
       "windspeed       float64\n",
       "count           float64\n",
       "is_train          int64\n",
       "season_desc      object\n",
       "weather_desc     object\n",
       "weekday          object\n",
       "hour              int64\n",
       "month             int64\n",
       "day               int64\n",
       "year              int64\n",
       "dtype: object"
      ]
     },
     "execution_count": 16,
     "metadata": {},
     "output_type": "execute_result"
    }
   ],
   "source": [
    "categorical_variables = ['season', 'weather', 'weekday']#, 'hour', 'month']\n",
    "numerical_variables = ['temp', 'atemp', 'humidity', 'windspeed']\n",
    "for c in categorical_variables:\n",
    "    data[c] = data[c].astype('object')\n",
    "for n in numerical_variables:\n",
    "    data[n] = data[n].astype('float64')\n",
    "data.dtypes"
   ]
  },
  {
   "cell_type": "markdown",
   "id": "9c458e2a",
   "metadata": {},
   "source": [
    "---"
   ]
  },
  {
   "cell_type": "markdown",
   "id": "a38b20e6",
   "metadata": {},
   "source": [
    "# II. EDA\n",
    "use plots to visualize distribution and have a basic understanding of what could be possible strong indicators and what could be done to improve outcome"
   ]
  },
  {
   "cell_type": "code",
   "execution_count": 17,
   "id": "4c9cf5fd",
   "metadata": {},
   "outputs": [
    {
     "data": {
      "text/plain": [
       "[Text(0.5, 0, 'Weather'),\n",
       " Text(0, 0.5, 'Count'),\n",
       " Text(0.5, 1.0, 'Box Plot On Count Across Weather')]"
      ]
     },
     "execution_count": 17,
     "metadata": {},
     "output_type": "execute_result"
    },
    {
     "data": {
      "image/png": "[encoded data removed]",
      "text/plain": [
       "<Figure size 1296x1080 with 6 Axes>"
      ]
     },
     "metadata": {
      "needs_background": "light"
     },
     "output_type": "display_data"
    }
   ],
   "source": [
    "fig, axes = plt.subplots(nrows=2,ncols=3)\n",
    "fig.set_size_inches(18, 15)\n",
    "sn.boxplot(data=data,y=\"count\",orient=\"v\",ax=axes[0][0],showfliers = False)\n",
    "sn.boxplot(data=data,y=\"count\",x=\"season_desc\",orient=\"v\",ax=axes[0][1],showfliers = False)\n",
    "sn.boxplot(data=data,y=\"count\",x=\"hour\",orient=\"v\",ax=axes[1][0],showfliers = False)\n",
    "sn.boxplot(data=data,y=\"count\",x=\"workingday\",orient=\"v\",ax=axes[1][1],showfliers = False)\n",
    "sn.boxplot(data=data,y='count',x='weekday',orient = 'v', ax = axes[0][2],showfliers = False)\n",
    "sn.boxplot(data=data,y='count',x='weather',orient = 'v', ax = axes[1][2],showfliers = False)\n",
    "\n",
    "axes[0][0].set(xlabel = 'Overall Count',ylabel='Count',title=\"Box Plot On Count\")\n",
    "axes[0][1].set(xlabel='Season', ylabel='Count',title=\"Box Plot On Count Across Season\")\n",
    "axes[1][0].set(xlabel='Hour Of The Day', ylabel='Count',title=\"Box Plot On Count Across Hour Of The Day\")\n",
    "axes[1][1].set(xlabel='Working Day', ylabel='Count',title=\"Box Plot On Count Across Working Day\")\n",
    "axes[0][2].set(xlabel = 'Week Day', ylabel = 'Count', title = 'Box Plot On Count Across Weekday')\n",
    "axes[1][2].set(xlabel = 'Weather', ylabel = 'Count', title = 'Box Plot On Count Across Weather')"
   ]
  },
  {
   "cell_type": "code",
   "execution_count": 18,
   "id": "ccd0a579",
   "metadata": {
    "scrolled": true
   },
   "outputs": [
    {
     "data": {
      "text/plain": [
       "<seaborn.axisgrid.FacetGrid at 0x7fcb61cabe80>"
      ]
     },
     "execution_count": 18,
     "metadata": {},
     "output_type": "execute_result"
    },
    {
     "data": {
      "image/png": "[encoded data removed]",
      "text/plain": [
       "<Figure size 1411.2x288 with 7 Axes>"
      ]
     },
     "metadata": {
      "needs_background": "light"
     },
     "output_type": "display_data"
    }
   ],
   "source": [
    "# combining different features together and check difference\n",
    "sn.catplot(x=\"hour\", \n",
    "           y=\"count\",\n",
    "           #hue=\"season\",\n",
    "           col=\"weekday\",\n",
    "           data=data, \n",
    "           kind=\"box\",\n",
    "           height=4,\n",
    "           aspect=.7,\n",
    "           showfliers = False)"
   ]
  },
  {
   "cell_type": "code",
   "execution_count": 19,
   "id": "d92f02de",
   "metadata": {
    "scrolled": false
   },
   "outputs": [
    {
     "data": {
      "text/plain": [
       "[Text(0.5, 0, 'Month'),\n",
       " Text(0, 0.5, 'Count'),\n",
       " Text(0.5, 1.0, 'Box Plot On Count across hour & weekday')]"
      ]
     },
     "execution_count": 19,
     "metadata": {},
     "output_type": "execute_result"
    },
    {
     "data": {
      "image/png": "[encoded data removed]",
      "text/plain": [
       "<Figure size 864x1296 with 4 Axes>"
      ]
     },
     "metadata": {
      "needs_background": "light"
     },
     "output_type": "display_data"
    }
   ],
   "source": [
    "#fig, (ax1, ax2, ax3, ax4) = plt.subplots(nrows=4)\n",
    "fig, (ax1, ax2,ax3,ax4) = plt.subplots(nrows=4)\n",
    "fig.set_size_inches(12, 18)\n",
    "\n",
    "# count over month\n",
    "month_count = pd.DataFrame(data.groupby(\"month\")[\"count\"].mean()).reset_index()\n",
    "\n",
    "sn.barplot(x=month_count['month'],\n",
    "           y=month_count['count'],\n",
    "           ax = ax1)\n",
    "\n",
    "ax1.set(xlabel = 'Month',ylabel='Count', title=\"Box Plot On Count across month\")\n",
    "\n",
    "# count over hour / season\n",
    "hour_season_count = pd.DataFrame(data.groupby(['hour','season'])[\"count\"].mean()).reset_index()\n",
    "\n",
    "sn.pointplot(x=hour_season_count['hour'],\n",
    "           y=hour_season_count['count'],\n",
    "           hue = hour_season_count['season'],\n",
    "           ax = ax2)\n",
    "\n",
    "ax2.set(xlabel = 'Month',ylabel='Count', title=\"Box Plot On Count across hour & season\")\n",
    "\n",
    "# count over hour / weather\n",
    "hour_season_count = pd.DataFrame(data.groupby(['hour','weather'])[\"count\"].mean()).reset_index()\n",
    "\n",
    "sn.pointplot(x=hour_season_count['hour'],\n",
    "           y=hour_season_count['count'],\n",
    "           hue = hour_season_count['weather'],\n",
    "           ax = ax3)\n",
    "\n",
    "ax3.set(xlabel = 'Month',ylabel='Count', title=\"Box Plot On Count across hour & weather\")\n",
    "\n",
    "# count over hour / weekday\n",
    "hour_season_count = pd.DataFrame(data.groupby(['hour','weekday'])[\"count\"].mean()).reset_index()\n",
    "\n",
    "sn.pointplot(x=hour_season_count['hour'],\n",
    "           y=hour_season_count['count'],\n",
    "           hue = hour_season_count['weekday'],\n",
    "           ax = ax4)\n",
    "\n",
    "ax4.set(xlabel = 'Month',ylabel='Count', title=\"Box Plot On Count across hour & weekday\")\n"
   ]
  },
  {
   "cell_type": "markdown",
   "id": "5ced7e0e",
   "metadata": {},
   "source": [
    "## 2.1 EDA Findings\n",
    "\n",
    "Spring is slightly lower than the other three seasons, and autumn has the highest count average\n",
    "\n",
    "The closer to the weekend the higher the count\n",
    "\n",
    "The better the weather, the higher the count\n",
    "\n",
    "Monday to Friday, 7-9 o'clock, 17-19 o'clock is the peak of the car use, and the weekend is more gentle => maybe you can increase the dummy variable is_weekday_peak_time"
   ]
  },
  {
   "cell_type": "markdown",
   "id": "6f146ed6",
   "metadata": {},
   "source": [
    "## 2.2 Predict Label Distribution Check"
   ]
  },
  {
   "cell_type": "code",
   "execution_count": 20,
   "id": "ebf71f1d",
   "metadata": {
    "scrolled": false
   },
   "outputs": [
    {
     "name": "stderr",
     "output_type": "stream",
     "text": [
      "/Users/artefact/opt/anaconda3/lib/python3.9/site-packages/seaborn/distributions.py:2619: FutureWarning: `distplot` is a deprecated function and will be removed in a future version. Please adapt your code to use either `displot` (a figure-level function with similar flexibility) or `histplot` (an axes-level function for histograms).\n",
      "  warnings.warn(msg, FutureWarning)\n"
     ]
    },
    {
     "data": {
      "text/plain": [
       "((array([-3.83154229, -3.60754977, -3.48462983, ...,  3.48462983,\n",
       "          3.60754977,  3.83154229]),\n",
       "  array([  1.,   1.,   1., ..., 968., 970., 977.])),\n",
       " (169.8294267323139, 191.5741319125482, 0.9372682766213172))"
      ]
     },
     "execution_count": 20,
     "metadata": {},
     "output_type": "execute_result"
    },
    {
     "data": {
      "image/png": "[encoded data removed]",
      "text/plain": [
       "<Figure size 504x288 with 2 Axes>"
      ]
     },
     "metadata": {
      "needs_background": "light"
     },
     "output_type": "display_data"
    }
   ],
   "source": [
    "from scipy import stats\n",
    "\n",
    "data_train = data[data['is_train']==1]\n",
    "\n",
    "fig,(ax1,ax2) = plt.subplots(ncols=2)\n",
    "fig.set_size_inches(7, 4)\n",
    "sn.distplot(data_train[\"count\"],ax=ax1)\n",
    "stats.probplot(data_train[\"count\"], dist='norm', fit=True, plot=ax2)"
   ]
  },
  {
   "cell_type": "markdown",
   "id": "9ed63521",
   "metadata": {},
   "source": [
    "Count distribution is clearly left-skewed, indicating needs for log-transformation\n",
    "\n",
    "Reference：https://www.kaggle.com/questions-and-answers/187759"
   ]
  },
  {
   "cell_type": "code",
   "execution_count": 21,
   "id": "0d686f97",
   "metadata": {
    "scrolled": false
   },
   "outputs": [
    {
     "name": "stderr",
     "output_type": "stream",
     "text": [
      "/Users/artefact/opt/anaconda3/lib/python3.9/site-packages/seaborn/distributions.py:2619: FutureWarning: `distplot` is a deprecated function and will be removed in a future version. Please adapt your code to use either `displot` (a figure-level function with similar flexibility) or `histplot` (an axes-level function for histograms).\n",
      "  warnings.warn(msg, FutureWarning)\n"
     ]
    },
    {
     "data": {
      "text/plain": [
       "((array([-3.83154229, -3.60754977, -3.48462983, ...,  3.48462983,\n",
       "          3.60754977,  3.83154229]),\n",
       "  array([0.69314718, 0.69314718, 0.69314718, ..., 6.87626461, 6.87832647,\n",
       "         6.88550967])),\n",
       " (1.3647396459244172, 4.591363690454027, 0.9611793780126964))"
      ]
     },
     "execution_count": 21,
     "metadata": {},
     "output_type": "execute_result"
    },
    {
     "data": {
      "image/png": "[encoded data removed]",
      "text/plain": [
       "<Figure size 504x288 with 2 Axes>"
      ]
     },
     "metadata": {
      "needs_background": "light"
     },
     "output_type": "display_data"
    }
   ],
   "source": [
    "fig,(ax1,ax2) = plt.subplots(ncols=2)\n",
    "fig.set_size_inches(7, 4)\n",
    "sn.distplot(np.log(data_train[\"count\"]),ax=ax1)\n",
    "stats.probplot(np.log1p(data_train[\"count\"]), dist='norm', fit=True, plot=ax2)"
   ]
  },
  {
   "cell_type": "code",
   "execution_count": 22,
   "id": "1b6794a7",
   "metadata": {
    "scrolled": true
   },
   "outputs": [
    {
     "name": "stderr",
     "output_type": "stream",
     "text": [
      "/Users/artefact/opt/anaconda3/lib/python3.9/site-packages/seaborn/distributions.py:2619: FutureWarning: `distplot` is a deprecated function and will be removed in a future version. Please adapt your code to use either `displot` (a figure-level function with similar flexibility) or `histplot` (an axes-level function for histograms).\n",
      "  warnings.warn(msg, FutureWarning)\n"
     ]
    },
    {
     "data": {
      "text/plain": [
       "((array([-3.82819677, -3.60401975, -3.48099008, ...,  3.48099008,\n",
       "          3.60401975,  3.82819677]),\n",
       "  array([0.69314718, 0.69314718, 0.69314718, ..., 6.5971457 , 6.59850903,\n",
       "         6.5998705 ])),\n",
       " (1.3486990121229776, 4.562423868087808, 0.9581176780909614))"
      ]
     },
     "execution_count": 22,
     "metadata": {},
     "output_type": "execute_result"
    },
    {
     "data": {
      "image/png": "[encoded data removed]",
      "text/plain": [
       "<Figure size 504x288 with 2 Axes>"
      ]
     },
     "metadata": {
      "needs_background": "light"
     },
     "output_type": "display_data"
    }
   ],
   "source": [
    "#Remove outliers that are 3 st away from mean\n",
    "data_move_outliers = data_train[np.abs(data_train[\"count\"]-data_train[\"count\"].mean())<=(3*data_train[\"count\"].std())] \n",
    "\n",
    "fig,(ax1,ax2) = plt.subplots(ncols=2)\n",
    "fig.set_size_inches(7, 4)\n",
    "sn.distplot(np.log(data_move_outliers[\"count\"]),ax=ax1)\n",
    "stats.probplot(np.log1p(data_move_outliers[\"count\"]), dist='norm', fit=True, plot=ax2)\n"
   ]
  },
  {
   "cell_type": "markdown",
   "id": "ede0a12a",
   "metadata": {},
   "source": [
    "---"
   ]
  },
  {
   "cell_type": "markdown",
   "id": "163ac860",
   "metadata": {},
   "source": [
    "# III. Modeling\n",
    "\n",
    "Try to predict the number of car users per 1 hour period by label\n",
    "\n",
    "v1: directly use the previous label to predict count\n",
    "\n",
    "v2: For the part with windspeed = 0, use other labels to predict, and use the predicted value as a label to predict count"
   ]
  },
  {
   "cell_type": "markdown",
   "id": "12dd85e1",
   "metadata": {},
   "source": [
    "## 3.1 Feature Engineering\n",
    "\n",
    "### 3.1.1 Convert Categorical\n",
    "\n",
    "If cardinality <=4 then use one-hot dummy encoding, else use other ways"
   ]
  },
  {
   "cell_type": "code",
   "execution_count": 23,
   "id": "9ec3d16b",
   "metadata": {
    "scrolled": true
   },
   "outputs": [
    {
     "name": "stdout",
     "output_type": "stream",
     "text": [
      "the cardinality of column season  is  4\n",
      "the cardinality of column weather  is  4\n",
      "the cardinality of column weekday  is  7\n"
     ]
    }
   ],
   "source": [
    "for c in categorical_variables:\n",
    "    print('the cardinality of column', c, ' is ', str(data[c].nunique()))"
   ]
  },
  {
   "cell_type": "code",
   "execution_count": 24,
   "id": "84b6b054",
   "metadata": {},
   "outputs": [
    {
     "data": {
      "text/plain": [
       "['season', 'weather']"
      ]
     },
     "execution_count": 24,
     "metadata": {},
     "output_type": "execute_result"
    }
   ],
   "source": [
    "# convert into dummy variables\n",
    "one_hot_target = []\n",
    "for c in categorical_variables:\n",
    "    if (data[c].nunique() <= 4):\n",
    "        one_hot_target.append(c)\n",
    "one_hot_target"
   ]
  },
  {
   "cell_type": "code",
   "execution_count": 25,
   "id": "691195ee",
   "metadata": {
    "scrolled": true
   },
   "outputs": [
    {
     "data": {
      "text/plain": [
       "Index(['datetime', 'season', 'holiday', 'workingday', 'weather', 'temp',\n",
       "       'atemp', 'humidity', 'windspeed', 'count', 'is_train', 'season_desc',\n",
       "       'weather_desc', 'weekday', 'hour', 'month', 'day', 'year', 'season_1',\n",
       "       'season_2', 'season_3', 'season_4', 'weather_1', 'weather_2',\n",
       "       'weather_3', 'weather_4'],\n",
       "      dtype='object')"
      ]
     },
     "execution_count": 25,
     "metadata": {},
     "output_type": "execute_result"
    }
   ],
   "source": [
    "for o in one_hot_target:\n",
    "    new_column=pd.get_dummies(data[o],prefix=o)\n",
    "    data = pd.concat([data, new_column], axis = 1)\n",
    "data.columns"
   ]
  },
  {
   "cell_type": "markdown",
   "id": "a6d00a9d",
   "metadata": {},
   "source": [
    "#### High Cardinality Processing\n",
    "\n",
    "hour:\n",
    "\n",
    "    1. is_morning_peak （7 & 8, holiday = 0）\n",
    "    \n",
    "    2. is_afternoon_peak (17 & 18, holiday = 0)\n",
    "    \n",
    "    3. is_night_time (0-6, 22-24, holiday = 0)\n",
    "    \n",
    "weekday:\n",
    "\n",
    "    1. is_work_day (Mon to Fri, holiday = 0)\n",
    "    \n",
    "    2. is_weekend (Sat & Sun)"
   ]
  },
  {
   "cell_type": "code",
   "execution_count": 26,
   "id": "b825b4ed",
   "metadata": {},
   "outputs": [],
   "source": [
    "data['is_workday_morning_peak'] = 0\n",
    "data.loc[(data['hour'] >= 7) & (data['hour'] <= 8) & (data['holiday'] == 0), 'is_workday_morning_peak'] = 1\n",
    "\n",
    "data['is_workday_afternoon_peak'] = 0\n",
    "data.loc[(data['hour'] >= 17) & (data['hour'] <= 18) & (data['holiday'] == 0), 'is_workday_afternoon_peak'] = 1\n",
    "\n",
    "data['is_workday_night_time'] = 0\n",
    "data.loc[(data['hour'] >= 22) & (data['hour'] <= 6) & (data['holiday'] == 0), 'is_workday_night_time'] = 1"
   ]
  },
  {
   "cell_type": "code",
   "execution_count": 27,
   "id": "3f1f53d6",
   "metadata": {
    "scrolled": false
   },
   "outputs": [
    {
     "data": {
      "text/plain": [
       "10886"
      ]
     },
     "execution_count": 27,
     "metadata": {},
     "output_type": "execute_result"
    }
   ],
   "source": [
    "data_model = data[data['is_train'] == 1]\n",
    "len(data_model)"
   ]
  },
  {
   "cell_type": "markdown",
   "id": "33ad876e",
   "metadata": {},
   "source": [
    "## 3.2 Split train + test"
   ]
  },
  {
   "cell_type": "code",
   "execution_count": 28,
   "id": "d90ac60d",
   "metadata": {},
   "outputs": [],
   "source": [
    "from sklearn.model_selection import train_test_split\n",
    "X = data_model[['holiday', 'workingday','hour','month','day','year',\n",
    "          'temp', 'atemp', 'humidity', 'windspeed','season_1', 'season_2',\n",
    "       'season_3', 'season_4', 'weather_1', 'weather_2', 'weather_3',\n",
    "       'weather_4', 'is_workday_morning_peak', 'is_workday_afternoon_peak',\n",
    "       'is_workday_night_time']]\n",
    "y = data_model['count']\n",
    "X_train, X_test, y_train, y_test = train_test_split(X, y, test_size=0.2, random_state=19960127)"
   ]
  },
  {
   "cell_type": "code",
   "execution_count": 29,
   "id": "a79f9acd",
   "metadata": {
    "scrolled": false
   },
   "outputs": [
    {
     "data": {
      "text/plain": [
       "<AxesSubplot:>"
      ]
     },
     "execution_count": 29,
     "metadata": {},
     "output_type": "execute_result"
    },
    {
     "data": {
      "image/png": "[encoded data removed]",
      "text/plain": [
       "<Figure size 432x288 with 2 Axes>"
      ]
     },
     "metadata": {
      "needs_background": "light"
     },
     "output_type": "display_data"
    }
   ],
   "source": [
    "# correlation among explanatory variables\n",
    "sn.heatmap(X.corr(),cmap='PuOr')"
   ]
  },
  {
   "cell_type": "markdown",
   "id": "acd25261",
   "metadata": {},
   "source": [
    "## 3.3 Regression Models"
   ]
  },
  {
   "cell_type": "markdown",
   "id": "72fd4351",
   "metadata": {},
   "source": [
    "### 3.3.1 Regressor 1: Linear Regression Baseline - only numerical & dummy variables"
   ]
  },
  {
   "cell_type": "code",
   "execution_count": 30,
   "id": "1feb685d",
   "metadata": {
    "scrolled": true
   },
   "outputs": [
    {
     "data": {
      "text/plain": [
       "LinearRegression()"
      ]
     },
     "execution_count": 30,
     "metadata": {},
     "output_type": "execute_result"
    }
   ],
   "source": [
    "\n",
    "reg_1 = linear_model.LinearRegression()\n",
    "reg_1.fit(X_train, y_train)"
   ]
  },
  {
   "cell_type": "code",
   "execution_count": 31,
   "id": "6b2d7ce7",
   "metadata": {},
   "outputs": [
    {
     "data": {
      "text/plain": [
       "1.2098247638518056"
      ]
     },
     "execution_count": 31,
     "metadata": {},
     "output_type": "execute_result"
    }
   ],
   "source": [
    "y_pred = list(reg_1.predict(X_test))\n",
    "y_pred_refined = [p if p > 0 else 0 for p in y_pred]\n",
    "cal_rmlse(y_test,y_pred_refined)"
   ]
  },
  {
   "cell_type": "markdown",
   "id": "de81f0d1",
   "metadata": {},
   "source": [
    "### 3.3.2 Regressor 2: Linear Regression Baseline -  count log1p transformation，then use expm1 to transform back\n",
    "\n",
    "Since the model is less likely to underestimate the count after the count log transform, the total rmlse is reduced from 1.3 to 1.09"
   ]
  },
  {
   "cell_type": "code",
   "execution_count": 32,
   "id": "d896faeb",
   "metadata": {},
   "outputs": [
    {
     "data": {
      "text/plain": [
       "0.8857214453628582"
      ]
     },
     "execution_count": 32,
     "metadata": {},
     "output_type": "execute_result"
    }
   ],
   "source": [
    "y_log_transformed = np.log1p(data_model['count'])\n",
    "\n",
    "X_train, X_test, y_train, y_test = train_test_split(X, y_log_transformed, test_size=0.2, random_state=19960127)\n",
    "\n",
    "reg_2 = linear_model.LinearRegression()\n",
    "reg_2.fit(X_train, y_train) \n",
    "y_pred = list(reg_2.predict(X_test))\n",
    "\n",
    "y_pred_exp = np.expm1(y_pred)\n",
    "y_real = np.expm1(y_test)\n",
    "cal_rmlse(y_real,y_pred_exp)"
   ]
  },
  {
   "cell_type": "markdown",
   "id": "d46da274",
   "metadata": {},
   "source": [
    "### 3.3.3 Same feature tested on regression models\n",
    "RF, Adaboost, BaggingRegressor, SVR, KNN"
   ]
  },
  {
   "cell_type": "code",
   "execution_count": 33,
   "id": "7a55cfab",
   "metadata": {
    "scrolled": true
   },
   "outputs": [
    {
     "data": {
      "text/html": [
       "<div>\n",
       "<style scoped>\n",
       "    .dataframe tbody tr th:only-of-type {\n",
       "        vertical-align: middle;\n",
       "    }\n",
       "\n",
       "    .dataframe tbody tr th {\n",
       "        vertical-align: top;\n",
       "    }\n",
       "\n",
       "    .dataframe thead th {\n",
       "        text-align: right;\n",
       "    }\n",
       "</style>\n",
       "<table border=\"1\" class=\"dataframe\">\n",
       "  <thead>\n",
       "    <tr style=\"text-align: right;\">\n",
       "      <th></th>\n",
       "      <th>Modelling Algo</th>\n",
       "      <th>RMSLE</th>\n",
       "    </tr>\n",
       "  </thead>\n",
       "  <tbody>\n",
       "    <tr>\n",
       "      <th>0</th>\n",
       "      <td>RandomForestRegressor</td>\n",
       "      <td>0.317492</td>\n",
       "    </tr>\n",
       "    <tr>\n",
       "      <th>1</th>\n",
       "      <td>AdaBoostRegressor</td>\n",
       "      <td>0.630060</td>\n",
       "    </tr>\n",
       "    <tr>\n",
       "      <th>2</th>\n",
       "      <td>BaggingRegressor</td>\n",
       "      <td>0.336424</td>\n",
       "    </tr>\n",
       "    <tr>\n",
       "      <th>3</th>\n",
       "      <td>SVR</td>\n",
       "      <td>1.268821</td>\n",
       "    </tr>\n",
       "    <tr>\n",
       "      <th>4</th>\n",
       "      <td>KNeighborsRegressor</td>\n",
       "      <td>0.826723</td>\n",
       "    </tr>\n",
       "  </tbody>\n",
       "</table>\n",
       "</div>"
      ],
      "text/plain": [
       "          Modelling Algo     RMSLE\n",
       "0  RandomForestRegressor  0.317492\n",
       "1      AdaBoostRegressor  0.630060\n",
       "2       BaggingRegressor  0.336424\n",
       "3                    SVR  1.268821\n",
       "4    KNeighborsRegressor  0.826723"
      ]
     },
     "execution_count": 33,
     "metadata": {},
     "output_type": "execute_result"
    }
   ],
   "source": [
    "from sklearn.ensemble import RandomForestRegressor,BaggingRegressor,GradientBoostingRegressor,AdaBoostRegressor\n",
    "from sklearn.svm import SVR\n",
    "from sklearn.neighbors import KNeighborsRegressor\n",
    "\n",
    "models=[RandomForestRegressor(),AdaBoostRegressor(),BaggingRegressor(),SVR(),KNeighborsRegressor()]\n",
    "model_names=['RandomForestRegressor','AdaBoostRegressor','BaggingRegressor','SVR','KNeighborsRegressor']\n",
    "rmsle=[]\n",
    "d={}\n",
    "y_real = np.expm1(y_test)\n",
    "for model in range (len(models)):\n",
    "    reg=models[model]\n",
    "    reg.fit(X_train,y_train)\n",
    "    pred_log=reg.predict(X_test)\n",
    "    pred = np.expm1(pred_log)\n",
    "    rmsle.append(cal_rmlse(pred,y_real))\n",
    "d={'Modelling Algo':model_names,'RMSLE':rmsle}   \n",
    "pd.DataFrame(d)"
   ]
  },
  {
   "cell_type": "markdown",
   "id": "871aeea2",
   "metadata": {},
   "source": [
    "RF and Bagging Regressor returns the lowest rmsle"
   ]
  },
  {
   "cell_type": "markdown",
   "id": "a1bcb968",
   "metadata": {},
   "source": [
    "### 3.3.4 Regressor 3: Random Forest"
   ]
  },
  {
   "cell_type": "code",
   "execution_count": 34,
   "id": "f1d3cc46",
   "metadata": {},
   "outputs": [
    {
     "data": {
      "text/plain": [
       "0.3168230322897759"
      ]
     },
     "execution_count": 34,
     "metadata": {},
     "output_type": "execute_result"
    }
   ],
   "source": [
    "from sklearn.ensemble import RandomForestRegressor\n",
    "\n",
    "reg_3 = RandomForestRegressor(random_state=19960127)\n",
    "reg_3.fit(X_train, y_train) \n",
    "y_pred = list(reg_3.predict(X_test))\n",
    "\n",
    "y_pred_exp = np.expm1(y_pred) \n",
    "\n",
    "y_real = np.expm1(y_test)\n",
    "\n",
    "cal_rmlse(y_real,y_pred_exp)"
   ]
  },
  {
   "cell_type": "markdown",
   "id": "b312e80c",
   "metadata": {},
   "source": [
    "public rmlse = 1.15"
   ]
  },
  {
   "cell_type": "markdown",
   "id": "ea80d0c1",
   "metadata": {},
   "source": [
    "### 3.3.5 RF try combination of features"
   ]
  },
  {
   "cell_type": "code",
   "execution_count": 35,
   "id": "fda082eb",
   "metadata": {},
   "outputs": [
    {
     "data": {
      "text/plain": [
       "0.39881435656347264"
      ]
     },
     "execution_count": 35,
     "metadata": {},
     "output_type": "execute_result"
    }
   ],
   "source": [
    "X = data_model[['holiday', 'workingday','hour','month',\n",
    "          'temp', 'atemp', 'humidity', 'windspeed','season_1', 'season_2',\n",
    "       'season_3', 'season_4', 'weather_1', 'weather_2', 'weather_3',\n",
    "       'weather_4', 'is_workday_morning_peak', 'is_workday_afternoon_peak',\n",
    "       'is_workday_night_time']]\n",
    "y = data_model['count']\n",
    "\n",
    "y_log_transformed = np.log1p(data_model['count'])\n",
    "\n",
    "X_train, X_test, y_train, y_test = train_test_split(X, y_log_transformed, test_size=0.2, random_state=19960127)\n",
    "reg_4 = RandomForestRegressor(random_state=19960127)\n",
    "reg_4.fit(X_train, y_train) \n",
    "y_pred = list(reg_4.predict(X_test))\n",
    "y_pred_exp = np.expm1(y_pred)\n",
    "y_real = np.expm1(y_test)\n",
    "cal_rmlse(y_real,y_pred_exp)"
   ]
  },
  {
   "cell_type": "markdown",
   "id": "54306760",
   "metadata": {},
   "source": [
    "public rmlse = 0.48"
   ]
  },
  {
   "cell_type": "code",
   "execution_count": 36,
   "id": "db76e6cc",
   "metadata": {},
   "outputs": [
    {
     "data": {
      "text/plain": [
       "0.3168230322897759"
      ]
     },
     "execution_count": 36,
     "metadata": {},
     "output_type": "execute_result"
    }
   ],
   "source": [
    "X = data_model[['holiday', 'workingday','hour','month','day','year',\n",
    "          'temp', 'atemp', 'humidity', 'windspeed','season_1', 'season_2',\n",
    "       'season_3', 'season_4', 'weather_1', 'weather_2', 'weather_3',\n",
    "       'weather_4', 'is_workday_morning_peak', 'is_workday_afternoon_peak',\n",
    "       'is_workday_night_time']]\n",
    "y = data_model['count']\n",
    "\n",
    "y_log_transformed = np.log1p(data_model['count'])\n",
    "\n",
    "X_train, X_test, y_train, y_test = train_test_split(X, y_log_transformed, test_size=0.2, random_state=19960127)\n",
    "\n",
    "reg_4 = RandomForestRegressor(random_state=19960127)\n",
    "reg_4.fit(X_train, y_train) \n",
    "y_pred = list(reg_4.predict(X_test))\n",
    "y_pred_exp = np.expm1(y_pred) \n",
    "y_real = np.expm1(y_test) \n",
    "cal_rmlse(y_real,y_pred_exp)"
   ]
  },
  {
   "cell_type": "markdown",
   "id": "e1f69ff2",
   "metadata": {},
   "source": [
    "public rmlse = 0.458"
   ]
  },
  {
   "cell_type": "markdown",
   "id": "2ac6bed5",
   "metadata": {},
   "source": [
    "### 3.3.6 RF with parameter tuning"
   ]
  },
  {
   "cell_type": "code",
   "execution_count": 37,
   "id": "6c46b3c7",
   "metadata": {},
   "outputs": [],
   "source": [
    "X = data_model[['holiday', 'workingday','hour','month','day','year',\n",
    "          'temp', 'atemp', 'humidity', 'windspeed','season_1', 'season_2',\n",
    "       'season_3', 'season_4', 'weather_1', 'weather_2', 'weather_3',\n",
    "       'weather_4', 'is_workday_morning_peak', 'is_workday_afternoon_peak',\n",
    "       'is_workday_night_time']]\n",
    "y = data_model['count']\n",
    "\n",
    "y_log_transformed = np.log1p(data_model['count'])\n",
    "\n",
    "X_train, X_test, y_train, y_test = train_test_split(X, y_log_transformed, test_size=0.2, random_state=19960127)"
   ]
  },
  {
   "cell_type": "code",
   "execution_count": 38,
   "id": "7712b3e7",
   "metadata": {},
   "outputs": [
    {
     "name": "stdout",
     "output_type": "stream",
     "text": [
      "{'n_estimators': [200, 400, 600, 800, 1000, 1200, 1400, 1600, 1800, 2000], 'max_features': ['auto', 'sqrt'], 'max_depth': [10, 20, 30, 40, 50, 60, 70, 80, 90, 100, 110, None], 'min_samples_split': [2, 5, 10], 'min_samples_leaf': [1, 2, 4], 'bootstrap': [True, False]}\n"
     ]
    }
   ],
   "source": [
    "from sklearn.model_selection import RandomizedSearchCV\n",
    "# Number of trees in random forest\n",
    "n_estimators = [int(x) for x in np.linspace(start = 200, stop = 2000, num = 10)]\n",
    "# Number of features to consider at every split\n",
    "max_features = ['auto', 'sqrt']\n",
    "# Maximum number of levels in tree\n",
    "max_depth = [int(x) for x in np.linspace(10, 110, num = 11)]\n",
    "max_depth.append(None)\n",
    "# Minimum number of samples required to split a node\n",
    "min_samples_split = [2, 5, 10]\n",
    "# Minimum number of samples required at each leaf node\n",
    "min_samples_leaf = [1, 2, 4]\n",
    "# Method of selecting samples for training each tree\n",
    "bootstrap = [True, False]\n",
    "# Create the random grid\n",
    "random_grid = {'n_estimators': n_estimators,\n",
    "               'max_features': max_features,\n",
    "               'max_depth': max_depth,\n",
    "               'min_samples_split': min_samples_split,\n",
    "               'min_samples_leaf': min_samples_leaf,\n",
    "               'bootstrap': bootstrap}\n",
    "print(random_grid)\n"
   ]
  },
  {
   "cell_type": "code",
   "execution_count": 39,
   "id": "1f5627eb",
   "metadata": {},
   "outputs": [
    {
     "name": "stderr",
     "output_type": "stream",
     "text": [
      "/Users/artefact/opt/anaconda3/lib/python3.9/site-packages/joblib/externals/loky/process_executor.py:702: UserWarning: A worker stopped while some jobs were given to the executor. This can be caused by a too short worker timeout or by a memory leak.\n",
      "  warnings.warn(\n"
     ]
    },
    {
     "name": "stdout",
     "output_type": "stream",
     "text": [
      "It took  834.025349855423  seconds for parameter tuning.\n"
     ]
    }
   ],
   "source": [
    "# Use the random grid to search for best hyperparameters\n",
    "import time\n",
    "\n",
    "t0 = time.time()\n",
    "rf = RandomForestRegressor()# First create the base model to tune\n",
    "\n",
    "# Random search of parameters, using 3 fold cross validation, \n",
    "# search across 100 different combinations, and use all available cores\n",
    "rf_random = RandomizedSearchCV(estimator = rf, param_distributions = random_grid, n_iter = 100, cv = 3, verbose=0, random_state=42, n_jobs = -1)\n",
    "\n",
    "# Fit the random search model\n",
    "rf_random.fit(X_train, y_train)\n",
    "\n",
    "t1 = time.time()\n",
    "\n",
    "print('It took ', str(t1-t0), ' seconds for parameter tuning.')\n"
   ]
  },
  {
   "cell_type": "code",
   "execution_count": 40,
   "id": "a2504522",
   "metadata": {},
   "outputs": [
    {
     "data": {
      "text/plain": [
       "{'n_estimators': 800,\n",
       " 'min_samples_split': 2,\n",
       " 'min_samples_leaf': 1,\n",
       " 'max_features': 'auto',\n",
       " 'max_depth': 100,\n",
       " 'bootstrap': True}"
      ]
     },
     "execution_count": 40,
     "metadata": {},
     "output_type": "execute_result"
    }
   ],
   "source": [
    "# best parameters\n",
    "rf_random.best_params_"
   ]
  },
  {
   "cell_type": "code",
   "execution_count": 41,
   "id": "ba6a1711",
   "metadata": {},
   "outputs": [
    {
     "data": {
      "text/plain": [
       "0.31470301366912956"
      ]
     },
     "execution_count": 41,
     "metadata": {},
     "output_type": "execute_result"
    }
   ],
   "source": [
    "\n",
    "y_pred = list(rf_random.predict(X_test))\n",
    "\n",
    "y_pred_exp = np.expm1(y_pred)\n",
    "\n",
    "y_real = np.expm1(y_test) \n",
    "\n",
    "cal_rmlse(y_real,y_pred_exp)\n"
   ]
  },
  {
   "cell_type": "markdown",
   "id": "44b10361",
   "metadata": {},
   "source": [
    "### 3.3.7 XGBoost"
   ]
  },
  {
   "cell_type": "code",
   "execution_count": 42,
   "id": "5e874bb1",
   "metadata": {},
   "outputs": [],
   "source": [
    "#!pip install xgboost"
   ]
  },
  {
   "cell_type": "code",
   "execution_count": 43,
   "id": "7043c95c",
   "metadata": {},
   "outputs": [],
   "source": [
    "\n",
    "X = data_model[['holiday', 'workingday','hour','month','day','year',\n",
    "          'temp', 'atemp', 'humidity', 'windspeed','season_1', 'season_2',\n",
    "       'season_3', 'season_4', 'weather_1', 'weather_2', 'weather_3',\n",
    "       'weather_4', 'is_workday_morning_peak', 'is_workday_afternoon_peak',\n",
    "       'is_workday_night_time']]\n",
    "y = data_model['count']\n",
    "\n",
    "y_log_transformed = np.log1p(data_model['count'])\n"
   ]
  },
  {
   "cell_type": "code",
   "execution_count": 44,
   "id": "a970a8c5",
   "metadata": {
    "scrolled": true
   },
   "outputs": [
    {
     "data": {
      "text/plain": [
       "0.29636364771874857"
      ]
     },
     "execution_count": 44,
     "metadata": {},
     "output_type": "execute_result"
    }
   ],
   "source": [
    "X_train, X_test, y_train, y_test = train_test_split(X, y_log_transformed, test_size=0.2, random_state=19960127)\n",
    "xgb = XGBRegressor(n_estimators=1000, max_depth=7, eta=0.1, subsample=0.7, colsample_bytree=0.8)\n",
    "xgb.fit(X_train, y_train)\n",
    "y_pred = list(xgb.predict(X_test))\n",
    "y_pred_exp = np.expm1(y_pred) \n",
    "y_real = np.expm1(y_test) \n",
    "cal_rmlse(y_real,y_pred_exp)\n"
   ]
  },
  {
   "cell_type": "markdown",
   "id": "af9e4756",
   "metadata": {},
   "source": [
    "public score 0.458"
   ]
  },
  {
   "cell_type": "markdown",
   "id": "7e309c58",
   "metadata": {},
   "source": [
    "---"
   ]
  },
  {
   "cell_type": "markdown",
   "id": "8e0af74f",
   "metadata": {},
   "source": [
    "# IV. Further Improve on Imputing Features\n",
    "Feature Imputation - Use predicted value to replace 0 in 'Windspeed'"
   ]
  },
  {
   "cell_type": "code",
   "execution_count": 45,
   "id": "daa3751e",
   "metadata": {},
   "outputs": [
    {
     "name": "stderr",
     "output_type": "stream",
     "text": [
      "/var/folders/nr/yx9j5bns6rsdkxq34wbkwm2c0000gn/T/ipykernel_8649/354452538.py:8: SettingWithCopyWarning: \n",
      "A value is trying to be set on a copy of a slice from a DataFrame.\n",
      "Try using .loc[row_indexer,col_indexer] = value instead\n",
      "\n",
      "See the caveats in the documentation: https://pandas.pydata.org/pandas-docs/stable/user_guide/indexing.html#returning-a-view-versus-a-copy\n",
      "  dataWind0[\"windspeed\"] = wind0Values\n"
     ]
    }
   ],
   "source": [
    "dataWind0 = data_model[data_model[\"windspeed\"]==0]\n",
    "dataWindNot0 = data_model[data_model[\"windspeed\"]!=0]\n",
    "rfModel_wind = RandomForestRegressor()\n",
    "windColumns = [\"season\",\"weather\",\"humidity\",\"month\",\"temp\",\"year\",\"atemp\"]\n",
    "rfModel_wind.fit(dataWindNot0[windColumns], dataWindNot0[\"windspeed\"])\n",
    "\n",
    "wind0Values = rfModel_wind.predict(X= dataWind0[windColumns])\n",
    "dataWind0[\"windspeed\"] = wind0Values\n",
    "data_model_imputed = dataWindNot0.append(dataWind0)\n",
    "data_model_imputed.reset_index(inplace=True)\n",
    "data_model_imputed.drop('index',inplace=True,axis=1)"
   ]
  },
  {
   "cell_type": "code",
   "execution_count": 46,
   "id": "87860181",
   "metadata": {},
   "outputs": [],
   "source": [
    "X = data_model_imputed[['holiday', 'workingday','hour','month','day','year',\n",
    "          'temp', 'atemp', 'humidity', 'windspeed','season_1', 'season_2',\n",
    "       'season_3', 'season_4', 'weather_1', 'weather_2', 'weather_3',\n",
    "       'weather_4', 'is_workday_morning_peak', 'is_workday_afternoon_peak',\n",
    "       'is_workday_night_time']]\n",
    "y = data_model_imputed['count']\n",
    "\n",
    "y_log_transformed = np.log1p(data_model_imputed['count'])\n",
    "\n",
    "X_train, X_test, y_train, y_test = train_test_split(X, y_log_transformed, test_size=0.2, random_state=19960127)\n"
   ]
  },
  {
   "cell_type": "markdown",
   "id": "37b0b933",
   "metadata": {},
   "source": [
    "## 4.1 Test again using RF & XGB but on the new imputed data"
   ]
  },
  {
   "cell_type": "code",
   "execution_count": 47,
   "id": "46c1e7b1",
   "metadata": {},
   "outputs": [
    {
     "name": "stderr",
     "output_type": "stream",
     "text": [
      "/Users/artefact/opt/anaconda3/lib/python3.9/site-packages/joblib/externals/loky/process_executor.py:702: UserWarning: A worker stopped while some jobs were given to the executor. This can be caused by a too short worker timeout or by a memory leak.\n",
      "  warnings.warn(\n"
     ]
    },
    {
     "name": "stdout",
     "output_type": "stream",
     "text": [
      "It took  968.7979729175568  seconds for parameter tuning.\n"
     ]
    }
   ],
   "source": [
    "# Use the random grid to search for best hyperparameters\n",
    "import time\n",
    "\n",
    "t0 = time.time()\n",
    "rf = RandomForestRegressor()# First create the base model to tune\n",
    "\n",
    "n_estimators = [int(x) for x in np.linspace(start = 200, stop = 2000, num = 10)]\n",
    "# Number of features to consider at every split\n",
    "max_features = ['auto', 'sqrt']\n",
    "# Maximum number of levels in tree\n",
    "max_depth = [int(x) for x in np.linspace(10, 110, num = 11)]\n",
    "max_depth.append(None)\n",
    "# Minimum number of samples required to split a node\n",
    "min_samples_split = [2, 5, 10]\n",
    "# Minimum number of samples required at each leaf node\n",
    "min_samples_leaf = [1, 2, 4]\n",
    "# Method of selecting samples for training each tree\n",
    "bootstrap = [True, False]\n",
    "# Create the random grid\n",
    "random_grid = {'n_estimators': n_estimators,\n",
    "               'max_features': max_features,\n",
    "               'max_depth': max_depth,\n",
    "               'min_samples_split': min_samples_split,\n",
    "               'min_samples_leaf': min_samples_leaf,\n",
    "               'bootstrap': bootstrap}\n",
    "\n",
    "# Random search of parameters, using 3 fold cross validation, \n",
    "# search across 100 different combinations, and use all available cores\n",
    "rf_random = RandomizedSearchCV(estimator = rf, param_distributions = random_grid, n_iter = 100, cv = 3, verbose=0, random_state=42, n_jobs = -1)\n",
    "\n",
    "# Fit the random search model\n",
    "rf_random.fit(X_train, y_train)\n",
    "\n",
    "t1 = time.time()\n",
    "\n",
    "print('It took ', str(t1-t0), ' seconds for parameter tuning.')\n"
   ]
  },
  {
   "cell_type": "code",
   "execution_count": 48,
   "id": "b8025aa6",
   "metadata": {},
   "outputs": [
    {
     "data": {
      "text/plain": [
       "0.3238088428869648"
      ]
     },
     "execution_count": 48,
     "metadata": {},
     "output_type": "execute_result"
    }
   ],
   "source": [
    "reg_4 = RandomForestRegressor(random_state=19960127)\n",
    "reg_4.fit(X_train, y_train) \n",
    "y_pred = list(reg_4.predict(X_test))\n",
    "y_pred_exp = np.expm1(y_pred)\n",
    "y_real = np.expm1(y_test) \n",
    "cal_rmlse(y_real,y_pred_exp)\n"
   ]
  },
  {
   "cell_type": "markdown",
   "id": "e2e1a9d4",
   "metadata": {},
   "source": [
    "### Feature Importance based on RF Regressor"
   ]
  },
  {
   "cell_type": "code",
   "execution_count": 49,
   "id": "84887126",
   "metadata": {},
   "outputs": [
    {
     "data": {
      "text/plain": [
       "Text(0.5, 0, 'Random Forest Feature Importance')"
      ]
     },
     "execution_count": 49,
     "metadata": {},
     "output_type": "execute_result"
    },
    {
     "data": {
      "image/png": "[encoded data removed]",
      "text/plain": [
       "<Figure size 432x288 with 1 Axes>"
      ]
     },
     "metadata": {
      "needs_background": "light"
     },
     "output_type": "display_data"
    }
   ],
   "source": [
    "reg_4.feature_importances_\n",
    "sorted_idx = reg_4.feature_importances_.argsort()\n",
    "plt.barh(X.columns[sorted_idx], reg_4.feature_importances_[sorted_idx])\n",
    "plt.xlabel(\"Random Forest Feature Importance\")"
   ]
  },
  {
   "cell_type": "markdown",
   "id": "f9e30d2a",
   "metadata": {},
   "source": [
    "The most critical feature is the hour of the day, followed by working days or not, temperature, month, year, and humidity.\n",
    "\n",
    "Among the artificially added features, the importance of is_workday_afternoon_peak ranks first."
   ]
  },
  {
   "cell_type": "markdown",
   "id": "48b21a3a",
   "metadata": {},
   "source": [
    "public score 0.449"
   ]
  },
  {
   "cell_type": "code",
   "execution_count": 50,
   "id": "1940b416",
   "metadata": {},
   "outputs": [
    {
     "name": "stdout",
     "output_type": "stream",
     "text": [
      "[14:10:25] WARNING: /Users/runner/work/xgboost/xgboost/python-package/build/temp.macosx-10.9-x86_64-cpython-37/xgboost/src/learner.cc:627: \n",
      "Parameters: { \"verbose\" } might not be used.\n",
      "\n",
      "  This could be a false alarm, with some parameters getting used by language bindings but\n",
      "  then being mistakenly passed down to XGBoost core, or some parameter actually being used\n",
      "  but getting flagged wrongly here. Please open an issue if you find any such cases.\n",
      "\n",
      "\n"
     ]
    },
    {
     "data": {
      "text/plain": [
       "0.29636364771874857"
      ]
     },
     "execution_count": 50,
     "metadata": {},
     "output_type": "execute_result"
    }
   ],
   "source": [
    "from sklearn.model_selection import train_test_split\n",
    "X = data_model[['holiday', 'workingday','hour','month','day','year',\n",
    "          'temp', 'atemp', 'humidity', 'windspeed','season_1', 'season_2',\n",
    "       'season_3', 'season_4', 'weather_1', 'weather_2', 'weather_3',\n",
    "       'weather_4', 'is_workday_morning_peak', 'is_workday_afternoon_peak',\n",
    "       'is_workday_night_time']]\n",
    "y = data_model['count']\n",
    "X_train, X_test, y_train, y_test = train_test_split(X, y, test_size=0.2, random_state=19960127)\n",
    "y_log_transformed = np.log1p(data_model['count'])\n",
    "X_train, X_test, y_train, y_test = train_test_split(X, y_log_transformed, test_size=0.2, random_state=19960127)\n",
    "xgb = XGBRegressor(n_estimators=1000, max_depth=7, eta=0.1, subsample=0.7, colsample_bytree=0.8,verbose = 0)\n",
    "xgb.fit(X_train, y_train)\n",
    "y_pred = list(xgb.predict(X_test))\n",
    "y_pred_exp = np.expm1(y_pred) \n",
    "y_real = np.expm1(y_test)\n",
    "cal_rmlse(y_real,y_pred_exp)"
   ]
  },
  {
   "cell_type": "markdown",
   "id": "d59cb426",
   "metadata": {},
   "source": [
    "public score 0.456"
   ]
  },
  {
   "cell_type": "markdown",
   "id": "75a4ab82",
   "metadata": {},
   "source": [
    "---"
   ]
  },
  {
   "cell_type": "markdown",
   "id": "022374b4",
   "metadata": {},
   "source": [
    "# Submit to Kaggle\n",
    "\n",
    "https://www.kaggle.com/competitions/bike-sharing-demand/submit"
   ]
  },
  {
   "cell_type": "code",
   "execution_count": 51,
   "id": "6426dc33",
   "metadata": {},
   "outputs": [
    {
     "data": {
      "text/plain": [
       "6493"
      ]
     },
     "execution_count": 51,
     "metadata": {},
     "output_type": "execute_result"
    }
   ],
   "source": [
    "test_model = data[data['is_train'] == 0].reset_index(drop = True)\n",
    "len(test_model)"
   ]
  },
  {
   "cell_type": "code",
   "execution_count": 52,
   "id": "db5c10a4",
   "metadata": {},
   "outputs": [
    {
     "data": {
      "text/html": [
       "<div>\n",
       "<style scoped>\n",
       "    .dataframe tbody tr th:only-of-type {\n",
       "        vertical-align: middle;\n",
       "    }\n",
       "\n",
       "    .dataframe tbody tr th {\n",
       "        vertical-align: top;\n",
       "    }\n",
       "\n",
       "    .dataframe thead th {\n",
       "        text-align: right;\n",
       "    }\n",
       "</style>\n",
       "<table border=\"1\" class=\"dataframe\">\n",
       "  <thead>\n",
       "    <tr style=\"text-align: right;\">\n",
       "      <th></th>\n",
       "      <th>datetime</th>\n",
       "      <th>count</th>\n",
       "    </tr>\n",
       "  </thead>\n",
       "  <tbody>\n",
       "    <tr>\n",
       "      <th>6488</th>\n",
       "      <td>2012-12-31 19:00:00</td>\n",
       "      <td>292.553066</td>\n",
       "    </tr>\n",
       "    <tr>\n",
       "      <th>6489</th>\n",
       "      <td>2012-12-31 20:00:00</td>\n",
       "      <td>220.589319</td>\n",
       "    </tr>\n",
       "    <tr>\n",
       "      <th>6490</th>\n",
       "      <td>2012-12-31 21:00:00</td>\n",
       "      <td>141.752467</td>\n",
       "    </tr>\n",
       "    <tr>\n",
       "      <th>6491</th>\n",
       "      <td>2012-12-31 22:00:00</td>\n",
       "      <td>123.254423</td>\n",
       "    </tr>\n",
       "    <tr>\n",
       "      <th>6492</th>\n",
       "      <td>2012-12-31 23:00:00</td>\n",
       "      <td>74.615014</td>\n",
       "    </tr>\n",
       "  </tbody>\n",
       "</table>\n",
       "</div>"
      ],
      "text/plain": [
       "                 datetime       count\n",
       "6488  2012-12-31 19:00:00  292.553066\n",
       "6489  2012-12-31 20:00:00  220.589319\n",
       "6490  2012-12-31 21:00:00  141.752467\n",
       "6491  2012-12-31 22:00:00  123.254423\n",
       "6492  2012-12-31 23:00:00   74.615014"
      ]
     },
     "execution_count": 52,
     "metadata": {},
     "output_type": "execute_result"
    }
   ],
   "source": [
    "pred_data = test_model[['holiday', 'workingday','hour','month','day','year',\n",
    "          'temp', 'atemp', 'humidity', 'windspeed','season_1', 'season_2',\n",
    "       'season_3', 'season_4', 'weather_1', 'weather_2', 'weather_3',\n",
    "       'weather_4', 'is_workday_morning_peak', 'is_workday_afternoon_peak',\n",
    "       'is_workday_night_time']]\n",
    "\n",
    "pred_log= list(reg_4.predict(pred_data))\n",
    "#pred_log= list(rf_random.predict(pred_data))\n",
    "#pred_log= list(xgb.predict(pred_data))\n",
    "pred = np.expm1(pred_log)\n",
    "\n",
    "output = test_model.copy()\n",
    "output['count'] = pred\n",
    "output = output[['datetime','count']]\n",
    "output.tail()"
   ]
  },
  {
   "cell_type": "code",
   "execution_count": 53,
   "id": "21236ddb",
   "metadata": {},
   "outputs": [],
   "source": [
    "output.to_csv('bike_demand_forecast.csv',index = False)"
   ]
  },
  {
   "cell_type": "code",
   "execution_count": 54,
   "id": "c74e61a9",
   "metadata": {
    "scrolled": false
   },
   "outputs": [
    {
     "data": {
      "text/html": [
       "<div>\n",
       "<style scoped>\n",
       "    .dataframe tbody tr th:only-of-type {\n",
       "        vertical-align: middle;\n",
       "    }\n",
       "\n",
       "    .dataframe tbody tr th {\n",
       "        vertical-align: top;\n",
       "    }\n",
       "\n",
       "    .dataframe thead th {\n",
       "        text-align: right;\n",
       "    }\n",
       "</style>\n",
       "<table border=\"1\" class=\"dataframe\">\n",
       "  <thead>\n",
       "    <tr style=\"text-align: right;\">\n",
       "      <th></th>\n",
       "      <th>datetime</th>\n",
       "      <th>count</th>\n",
       "    </tr>\n",
       "  </thead>\n",
       "  <tbody>\n",
       "    <tr>\n",
       "      <th>0</th>\n",
       "      <td>2011-01-20 00:00:00</td>\n",
       "      <td>10.424311</td>\n",
       "    </tr>\n",
       "    <tr>\n",
       "      <th>1</th>\n",
       "      <td>2011-01-20 01:00:00</td>\n",
       "      <td>5.672816</td>\n",
       "    </tr>\n",
       "    <tr>\n",
       "      <th>2</th>\n",
       "      <td>2011-01-20 02:00:00</td>\n",
       "      <td>3.813489</td>\n",
       "    </tr>\n",
       "    <tr>\n",
       "      <th>3</th>\n",
       "      <td>2011-01-20 03:00:00</td>\n",
       "      <td>3.065031</td>\n",
       "    </tr>\n",
       "    <tr>\n",
       "      <th>4</th>\n",
       "      <td>2011-01-20 04:00:00</td>\n",
       "      <td>2.584771</td>\n",
       "    </tr>\n",
       "  </tbody>\n",
       "</table>\n",
       "</div>"
      ],
      "text/plain": [
       "              datetime      count\n",
       "0  2011-01-20 00:00:00  10.424311\n",
       "1  2011-01-20 01:00:00   5.672816\n",
       "2  2011-01-20 02:00:00   3.813489\n",
       "3  2011-01-20 03:00:00   3.065031\n",
       "4  2011-01-20 04:00:00   2.584771"
      ]
     },
     "execution_count": 54,
     "metadata": {},
     "output_type": "execute_result"
    }
   ],
   "source": [
    "pd.read_csv('bike_demand_forecast.csv').head()"
   ]
  },
  {
   "cell_type": "markdown",
   "id": "2b55493b",
   "metadata": {},
   "source": [
    "---"
   ]
  },
  {
   "cell_type": "markdown",
   "id": "75c0acaf",
   "metadata": {},
   "source": [
    "# V. Predict casual + registered respectively then add up as count\n"
   ]
  },
  {
   "cell_type": "markdown",
   "id": "c952fdfa",
   "metadata": {},
   "source": [
    "## Step I. log transform casual + register\n",
    "\n",
    "## Step II. train 2 models to predict casual & registered respectively\n",
    "\n",
    "## Step III. mutate column count = casual + registered\n",
    "\n",
    "## Step IV. evaluate result"
   ]
  },
  {
   "cell_type": "code",
   "execution_count": 55,
   "id": "c8a1a868",
   "metadata": {
    "scrolled": true
   },
   "outputs": [
    {
     "name": "stderr",
     "output_type": "stream",
     "text": [
      "/var/folders/nr/yx9j5bns6rsdkxq34wbkwm2c0000gn/T/ipykernel_8649/337879554.py:22: SettingWithCopyWarning: \n",
      "A value is trying to be set on a copy of a slice from a DataFrame.\n",
      "Try using .loc[row_indexer,col_indexer] = value instead\n",
      "\n",
      "See the caveats in the documentation: https://pandas.pydata.org/pandas-docs/stable/user_guide/indexing.html#returning-a-view-versus-a-copy\n",
      "  dataWind0[\"windspeed\"] = wind0Values\n"
     ]
    }
   ],
   "source": [
    "# prepare train / test data\n",
    "train_seperate = pd.read_csv('train.csv')\n",
    "test_seperate = pd.read_csv('test.csv')\n",
    "test_seperate['casual'] = 0\n",
    "test_seperate['registered'] = 0\n",
    "test_seperate['count'] = 0\n",
    "train_seperate['is_train'] = 1\n",
    "test_seperate['is_train'] = 0\n",
    "\n",
    "train_seperate = data_process(train_seperate).complete_wrangling()\n",
    "test_seperate = data_process(test_seperate).complete_wrangling()\n",
    "\n",
    "data_model_seperate = train_seperate.append(test_seperate).reset_index(drop = True)\n",
    "\n",
    "# use predicted windspeed to replace 0 in data\n",
    "dataWind0 = data_model_seperate[data_model_seperate[\"windspeed\"]==0]\n",
    "dataWindNot0 = data_model_seperate[data_model_seperate[\"windspeed\"]!=0]\n",
    "rfModel_wind = RandomForestRegressor(random_state=19960127)\n",
    "windColumns = [\"season\",\"weather\",\"humidity\",\"month\",\"temp\",\"year\",\"atemp\"]\n",
    "rfModel_wind.fit(dataWindNot0[windColumns], dataWindNot0[\"windspeed\"])\n",
    "wind0Values = rfModel_wind.predict(X= dataWind0[windColumns])\n",
    "dataWind0[\"windspeed\"] = wind0Values\n",
    "data_model_imputed_seperate = dataWindNot0.append(dataWind0)\n",
    "data_model_imputed_seperate.reset_index(inplace=True)\n",
    "data_model_imputed_seperate.drop('index',inplace=True,axis=1)"
   ]
  },
  {
   "cell_type": "code",
   "execution_count": 56,
   "id": "4d9186a1",
   "metadata": {},
   "outputs": [
    {
     "data": {
      "text/plain": [
       "Counter({0.0: 8708, 1.0: 2178})"
      ]
     },
     "execution_count": 56,
     "metadata": {},
     "output_type": "execute_result"
    }
   ],
   "source": [
    "data_model_seperate = data_model_imputed_seperate[data_model_imputed_seperate['is_train'] == 1].reset_index(drop = True)\n",
    "train_indices = np.ones(len(data_model_seperate))\n",
    "test_perc = 0.8\n",
    "test_cutoff = int(len(data_model_seperate) * test_perc)\n",
    "train_indices[:test_cutoff] = 0\n",
    "np.random.seed(19960127)\n",
    "np.random.shuffle(train_indices)\n",
    "len(train_indices)\n",
    "collections.Counter(train_indices)"
   ]
  },
  {
   "cell_type": "code",
   "execution_count": 57,
   "id": "f717960f",
   "metadata": {},
   "outputs": [
    {
     "data": {
      "text/plain": [
       "0.5368516833282772"
      ]
     },
     "execution_count": 57,
     "metadata": {},
     "output_type": "execute_result"
    }
   ],
   "source": [
    "data_model_seperate = data_model_imputed_seperate[data_model_imputed_seperate['is_train'] == 1].reset_index(drop = True)\n",
    "\n",
    "data_model_seperate['is_train'] = train_indices\n",
    "data_model_seperate['casual_log'] = np.log1p(data_model_seperate['casual'])\n",
    "\n",
    "X_train = data_model_seperate[data_model_seperate['is_train'] == 1][['holiday', 'workingday','hour','month','day','year',\n",
    "          'temp', 'atemp', 'humidity', 'windspeed','season_1', 'season_2',\n",
    "       'season_3', 'season_4', 'weather_1', 'weather_2', 'weather_3',\n",
    "       'weather_4', 'is_workday_morning_peak', 'is_workday_afternoon_peak',\n",
    "       'is_workday_night_time']]\n",
    "X_test = data_model_seperate[data_model_seperate['is_train'] == 0][['holiday', 'workingday','hour','month','day','year',\n",
    "          'temp', 'atemp', 'humidity', 'windspeed','season_1', 'season_2',\n",
    "       'season_3', 'season_4', 'weather_1', 'weather_2', 'weather_3',\n",
    "       'weather_4', 'is_workday_morning_peak', 'is_workday_afternoon_peak',\n",
    "       'is_workday_night_time']]\n",
    "    \n",
    "y_train = data_model_seperate[data_model_seperate['is_train'] == 1]['casual_log']\n",
    "y_test = data_model_seperate[data_model_seperate['is_train'] == 0]['casual_log']\n",
    "\n",
    "xgb_casual = XGBRegressor(n_estimators=1000, max_depth=7, eta=0.1, subsample=0.7, colsample_bytree=0.8)\n",
    "xgb_casual.fit(X_train, y_train)\n",
    "y_pred = list(xgb_casual.predict(X_test))\n",
    "y_pred_exp = np.expm1(y_pred) \n",
    "y_pred_exp_casual = [p if p > 0 else 0 for p in y_pred_exp] # it is because predicted contains value < 0\n",
    "y_real_casual = np.expm1(y_test) \n",
    "cal_rmlse(y_real_casual,y_pred_exp_casual)\n"
   ]
  },
  {
   "cell_type": "code",
   "execution_count": 58,
   "id": "e941711b",
   "metadata": {},
   "outputs": [
    {
     "data": {
      "text/plain": [
       "0.34871120046646"
      ]
     },
     "execution_count": 58,
     "metadata": {},
     "output_type": "execute_result"
    }
   ],
   "source": [
    "data_model_seperate = data_model_imputed_seperate[data_model_imputed_seperate['is_train'] == 1].reset_index(drop = True)\n",
    "data_model_seperate['is_train'] = train_indices\n",
    "data_model_seperate['registered_log'] = np.log1p(data_model_seperate['registered'])\n",
    "\n",
    "X_train = data_model_seperate[data_model_seperate['is_train'] == 1][['holiday', 'workingday','hour','month','day','year',\n",
    "          'temp', 'atemp', 'humidity', 'windspeed','season_1', 'season_2',\n",
    "       'season_3', 'season_4', 'weather_1', 'weather_2', 'weather_3',\n",
    "       'weather_4', 'is_workday_morning_peak', 'is_workday_afternoon_peak',\n",
    "       'is_workday_night_time']]\n",
    "X_test = data_model_seperate[data_model_seperate['is_train'] == 0][['holiday', 'workingday','hour','month','day','year',\n",
    "          'temp', 'atemp', 'humidity', 'windspeed','season_1', 'season_2',\n",
    "       'season_3', 'season_4', 'weather_1', 'weather_2', 'weather_3',\n",
    "       'weather_4', 'is_workday_morning_peak', 'is_workday_afternoon_peak',\n",
    "       'is_workday_night_time']]\n",
    "    \n",
    "y_train = data_model_seperate[data_model_seperate['is_train'] == 1]['registered_log']\n",
    "y_test = data_model_seperate[data_model_seperate['is_train'] == 0]['registered_log']\n",
    "\n",
    "xgb_registered = XGBRegressor(n_estimators=1000, max_depth=7, eta=0.1, subsample=0.7, colsample_bytree=0.8)\n",
    "xgb_registered.fit(X_train, y_train)\n",
    "y_pred = list(xgb_registered.predict(X_test))\n",
    "y_pred_exp = np.expm1(y_pred) \n",
    "y_pred_exp_registered = [p if p > 0 else 0 for p in y_pred_exp] \n",
    "y_real_registered = np.expm1(y_test) \n",
    "cal_rmlse(y_real_registered,y_pred_exp_registered)\n"
   ]
  },
  {
   "cell_type": "code",
   "execution_count": 59,
   "id": "4db0213b",
   "metadata": {},
   "outputs": [
    {
     "data": {
      "text/plain": [
       "0.34477568284713705"
      ]
     },
     "execution_count": 59,
     "metadata": {},
     "output_type": "execute_result"
    }
   ],
   "source": [
    "y_real_total = data_model_seperate[data_model_seperate['is_train'] == 0]['count']\n",
    "y_pred_total = [casual + registered for casual, registered in zip(y_pred_exp_casual, y_pred_exp_registered)]\n",
    "cal_rmlse(y_real_total,y_pred_total)"
   ]
  },
  {
   "cell_type": "markdown",
   "id": "7718b813",
   "metadata": {},
   "source": [
    "# VI. Submit to kaggle"
   ]
  },
  {
   "cell_type": "code",
   "execution_count": 60,
   "id": "5ea22fff",
   "metadata": {},
   "outputs": [
    {
     "data": {
      "text/html": [
       "<div>\n",
       "<style scoped>\n",
       "    .dataframe tbody tr th:only-of-type {\n",
       "        vertical-align: middle;\n",
       "    }\n",
       "\n",
       "    .dataframe tbody tr th {\n",
       "        vertical-align: top;\n",
       "    }\n",
       "\n",
       "    .dataframe thead th {\n",
       "        text-align: right;\n",
       "    }\n",
       "</style>\n",
       "<table border=\"1\" class=\"dataframe\">\n",
       "  <thead>\n",
       "    <tr style=\"text-align: right;\">\n",
       "      <th></th>\n",
       "      <th>datetime</th>\n",
       "      <th>count</th>\n",
       "    </tr>\n",
       "  </thead>\n",
       "  <tbody>\n",
       "    <tr>\n",
       "      <th>6488</th>\n",
       "      <td>2012-12-29 12:00:00</td>\n",
       "      <td>63.437908</td>\n",
       "    </tr>\n",
       "    <tr>\n",
       "      <th>6489</th>\n",
       "      <td>2012-12-29 13:00:00</td>\n",
       "      <td>73.002151</td>\n",
       "    </tr>\n",
       "    <tr>\n",
       "      <th>6490</th>\n",
       "      <td>2012-12-29 15:00:00</td>\n",
       "      <td>177.013672</td>\n",
       "    </tr>\n",
       "    <tr>\n",
       "      <th>6491</th>\n",
       "      <td>2012-12-29 23:00:00</td>\n",
       "      <td>42.744392</td>\n",
       "    </tr>\n",
       "    <tr>\n",
       "      <th>6492</th>\n",
       "      <td>2012-12-30 19:00:00</td>\n",
       "      <td>226.080475</td>\n",
       "    </tr>\n",
       "  </tbody>\n",
       "</table>\n",
       "</div>"
      ],
      "text/plain": [
       "                 datetime       count\n",
       "6488  2012-12-29 12:00:00   63.437908\n",
       "6489  2012-12-29 13:00:00   73.002151\n",
       "6490  2012-12-29 15:00:00  177.013672\n",
       "6491  2012-12-29 23:00:00   42.744392\n",
       "6492  2012-12-30 19:00:00  226.080475"
      ]
     },
     "execution_count": 60,
     "metadata": {},
     "output_type": "execute_result"
    }
   ],
   "source": [
    "test_model = data_model_imputed_seperate[data_model_imputed_seperate['is_train'] == 0].reset_index(drop = True)\n",
    "pred_data = test_model[['holiday', 'workingday','hour','month','day','year',\n",
    "          'temp', 'atemp', 'humidity', 'windspeed','season_1', 'season_2',\n",
    "       'season_3', 'season_4', 'weather_1', 'weather_2', 'weather_3',\n",
    "       'weather_4', 'is_workday_morning_peak', 'is_workday_afternoon_peak',\n",
    "       'is_workday_night_time']]\n",
    "\n",
    "#pred_log= list(reg_4.predict(pred_data))\n",
    "#pred_log= list(rf_random.predict(pred_data))\n",
    "#pred_log= list(xgb.predict(pred_data))\n",
    "pred_log = [np.expm1(casual) + np.expm1(registered) for casual, registered in zip(list(xgb_casual.predict(pred_data)), list(xgb_registered.predict(pred_data)))]\n",
    "\n",
    "output = test_model.copy()\n",
    "output['count'] = pred_log\n",
    "output = output[['datetime','count']]\n",
    "output.tail()"
   ]
  },
  {
   "cell_type": "code",
   "execution_count": 61,
   "id": "4a670c01",
   "metadata": {},
   "outputs": [],
   "source": [
    "output.to_csv('bike_demand_forecast.csv',index = False)"
   ]
  },
  {
   "cell_type": "code",
   "execution_count": 62,
   "id": "01c80ce4",
   "metadata": {},
   "outputs": [
    {
     "data": {
      "text/html": [
       "<div>\n",
       "<style scoped>\n",
       "    .dataframe tbody tr th:only-of-type {\n",
       "        vertical-align: middle;\n",
       "    }\n",
       "\n",
       "    .dataframe tbody tr th {\n",
       "        vertical-align: top;\n",
       "    }\n",
       "\n",
       "    .dataframe thead th {\n",
       "        text-align: right;\n",
       "    }\n",
       "</style>\n",
       "<table border=\"1\" class=\"dataframe\">\n",
       "  <thead>\n",
       "    <tr style=\"text-align: right;\">\n",
       "      <th></th>\n",
       "      <th>datetime</th>\n",
       "      <th>count</th>\n",
       "    </tr>\n",
       "  </thead>\n",
       "  <tbody>\n",
       "    <tr>\n",
       "      <th>0</th>\n",
       "      <td>2011-01-20 00:00:00</td>\n",
       "      <td>15.700301</td>\n",
       "    </tr>\n",
       "    <tr>\n",
       "      <th>1</th>\n",
       "      <td>2011-01-20 03:00:00</td>\n",
       "      <td>2.270477</td>\n",
       "    </tr>\n",
       "    <tr>\n",
       "      <th>2</th>\n",
       "      <td>2011-01-20 04:00:00</td>\n",
       "      <td>2.307276</td>\n",
       "    </tr>\n",
       "    <tr>\n",
       "      <th>3</th>\n",
       "      <td>2011-01-20 05:00:00</td>\n",
       "      <td>5.295780</td>\n",
       "    </tr>\n",
       "    <tr>\n",
       "      <th>4</th>\n",
       "      <td>2011-01-20 06:00:00</td>\n",
       "      <td>44.165880</td>\n",
       "    </tr>\n",
       "  </tbody>\n",
       "</table>\n",
       "</div>"
      ],
      "text/plain": [
       "              datetime      count\n",
       "0  2011-01-20 00:00:00  15.700301\n",
       "1  2011-01-20 03:00:00   2.270477\n",
       "2  2011-01-20 04:00:00   2.307276\n",
       "3  2011-01-20 05:00:00   5.295780\n",
       "4  2011-01-20 06:00:00  44.165880"
      ]
     },
     "execution_count": 62,
     "metadata": {},
     "output_type": "execute_result"
    }
   ],
   "source": [
    "pd.read_csv('bike_demand_forecast.csv').head()"
   ]
  },
  {
   "cell_type": "markdown",
   "id": "e160dd64",
   "metadata": {},
   "source": [
    "public score 0.448"
   ]
  },
  {
   "cell_type": "markdown",
   "id": "4d80763b",
   "metadata": {},
   "source": [
    "---"
   ]
  },
  {
   "cell_type": "markdown",
   "id": "e40e8a6e",
   "metadata": {},
   "source": [
    "# References"
   ]
  },
  {
   "cell_type": "markdown",
   "id": "fa3c3214",
   "metadata": {},
   "source": [
    "EDA & Feature Imputation:\n",
    "\n",
    "https://www.kaggle.com/code/viveksrinivasan/eda-ensemble-model-top-10-percentile#Filling-0's-In-windspeed-Using-Random-Forest\n",
    "\n",
    "\n",
    "Model testing & Parameter tuning :\n",
    "\n",
    "https://www.kaggle.com/code/rajmehra03/bike-sharing-demand-rmsle-0-3194/notebook#THE-END.-[please-star/upvote-if-u-find-it-helpful.]\n",
    "\n",
    "https://towardsdatascience.com/hyperparameter-tuning-the-random-forest-in-python-using-scikit-learn-28d2aa77dd74\n",
    "\n",
    "\n",
    "\n",
    "Seperate count prediction by casual & register:\n",
    "\n",
    "https://github.com/qinhanmin2014/kaggle-bike-sharing-demand/blob/master/GBDT_RF.ipynb"
   ]
  },
  {
   "cell_type": "code",
   "execution_count": null,
   "id": "2910f132",
   "metadata": {},
   "outputs": [],
   "source": []
  }
 ],
 "metadata": {
  "kernelspec": {
   "display_name": "Python 3 (ipykernel)",
   "language": "python",
   "name": "python3"
  },
  "language_info": {
   "codemirror_mode": {
    "name": "ipython",
    "version": 3
   },
   "file_extension": ".py",
   "mimetype": "text/x-python",
   "name": "python",
   "nbconvert_exporter": "python",
   "pygments_lexer": "ipython3",
   "version": "3.9.7"
  }
 },
 "nbformat": 4,
 "nbformat_minor": 5
}
